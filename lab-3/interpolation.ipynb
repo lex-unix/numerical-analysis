{
 "cells": [
  {
   "cell_type": "code",
   "execution_count": 26,
   "id": "0919332f",
   "metadata": {},
   "outputs": [],
   "source": [
    "import numpy as np\n",
    "import pandas as pd\n",
    "import os"
   ]
  },
  {
   "cell_type": "code",
   "execution_count": 27,
   "metadata": {},
   "outputs": [],
   "source": [
    "pwd = os.getcwd()"
   ]
  },
  {
   "cell_type": "markdown",
   "id": "0655f4a8",
   "metadata": {},
   "source": [
    "# Lagrange interpolation"
   ]
  },
  {
   "cell_type": "code",
   "execution_count": 17,
   "id": "4dbe63ce",
   "metadata": {},
   "outputs": [],
   "source": [
    "def lagrange(x, y, x_):\n",
    "    p = 0\n",
    "    ls = []\n",
    "    for i in range(len(x)):\n",
    "        l = 1\n",
    "        for j in range(len(x)):\n",
    "            if j != i:\n",
    "                l *= (x_ - x[j]) / (x[i] - x[j])\n",
    "        p += y[i] * l\n",
    "        ls.append(l)\n",
    "    return p"
   ]
  },
  {
   "cell_type": "markdown",
   "id": "836064a7",
   "metadata": {},
   "source": [
    "# Newton interpolation "
   ]
  },
  {
   "cell_type": "code",
   "execution_count": 18,
   "id": "326a9ff2",
   "metadata": {},
   "outputs": [],
   "source": [
    "def Newton(X, Y, x):\n",
    "   value = 0\n",
    "   temp = 1\n",
    "   for i in range(len(X)):\n",
    "      value += dividedDifferences(X[:i + 1], Y[:i + 1])*temp\n",
    "      temp *= (x - X[i])\n",
    "   return value"
   ]
  },
  {
   "cell_type": "code",
   "execution_count": 19,
   "id": "6aa26859",
   "metadata": {},
   "outputs": [],
   "source": [
    "def dividedDifferences(X, Y):\n",
    "   if len(X) == 1:\n",
    "      return Y[0]\n",
    "   else:\n",
    "      return (dividedDifferences(X[:-1], Y[:-1]) - dividedDifferences(X[1:], Y[1:]))/(X[0] - X[-1])\n"
   ]
  },
  {
   "cell_type": "markdown",
   "id": "bcb1844f",
   "metadata": {},
   "source": [
    "# Spline"
   ]
  },
  {
   "cell_type": "code",
   "execution_count": 20,
   "id": "c4137d76",
   "metadata": {},
   "outputs": [],
   "source": [
    "def spline(X: list, Y: list, x: float) -> float:\n",
    "   h = X[1] - X[0]\n",
    "   N = len(X)\n",
    "   splineSlope = [(Y[i + 1] - Y[i - 1])/2*h for i in range(1, N - 1)]\n",
    "   splineSlope.insert(0, (4*Y[1] - Y[2] -3*Y[0])/(2*h))\n",
    "   splineSlope.append((3*Y[N - 1] - Y[N - 3] - 3*Y[N - 2])/(2*h))\n",
    "   i = None\n",
    "   for j in range(N - 1):\n",
    "      if X[j] <= x and X[j + 1] > x:\n",
    "         i = j\n",
    "         break\n",
    "   if i == None: return 'unknown'\n",
    "   value = Y[i]*(X[i + 1] - x)**2*(2*(x-X[i]) + h)/h**3\n",
    "   value += Y[i + 1]*(x - X[i])**2*(2*(X[i + 1] - x) + h)/h**3\n",
    "   value += splineSlope[i]*(X[i + 1] - x)**2*(x-X[i])/h**2\n",
    "   value += splineSlope[i + 1]*(x - X[i])**2*(x-X[i + 1])/h**2\n",
    "   return value"
   ]
  },
  {
   "cell_type": "markdown",
   "id": "d5e05979",
   "metadata": {},
   "source": [
    "# dataset & test"
   ]
  },
  {
   "cell_type": "code",
   "execution_count": 21,
   "id": "3b954def",
   "metadata": {},
   "outputs": [],
   "source": [
    "# x = [14.4, 14.8, 15.2, 15.6, 16, 16.4, 16.8, 17.2, 17.6, 18.0]\n",
    "# y = [15.8, 16.6, 17.4, 18.2, 19.0, 19.8, 20.6, 21.4, 22.2, 23.0]\n",
    "x = [14.4, 14.8, 15.2, 15.6, 16]\n",
    "y = [16.4, 16.8, 17.2, 17.6, 18]"
   ]
  },
  {
   "cell_type": "code",
   "execution_count": 22,
   "id": "98435984",
   "metadata": {
    "scrolled": true
   },
   "outputs": [],
   "source": [
    "nodes = []\n",
    "lgrng = []\n",
    "nwton = []\n",
    "spln = []\n",
    "result = float()\n",
    "for i in [i / 10 for i in range(144, 181)]:\n",
    "    nodes.append(i)\n",
    "    lgrng.append(lagrange(x, y, i))\n",
    "    nwton.append(Newton(x, y, i))\n",
    "    spln.append(spline(x, y, i))"
   ]
  },
  {
   "cell_type": "code",
   "execution_count": 23,
   "id": "75777419",
   "metadata": {},
   "outputs": [],
   "source": [
    "lagrangeData = {\n",
    "    'x': nodes,\n",
    "    'Lagrange result': lgrng\n",
    "               }\n",
    "dfLagrange = pd.DataFrame(lagrangeData)\n",
    "dfLagrange.to_excel(pwd + '/data/lagrange.xlsx')"
   ]
  },
  {
   "cell_type": "code",
   "execution_count": 24,
   "id": "2e86f97a",
   "metadata": {},
   "outputs": [],
   "source": [
    "NewtonData = {\n",
    "    'x': nodes,\n",
    "    'Newton result': nwton\n",
    "               }\n",
    "dfNewton = pd.DataFrame(NewtonData)\n",
    "dfNewton.to_excel(pwd + '/data/newton.xlsx')"
   ]
  },
  {
   "cell_type": "code",
   "execution_count": 25,
   "id": "06331363",
   "metadata": {},
   "outputs": [],
   "source": [
    "SplineData = {\n",
    "    'x': nodes,\n",
    "    'Splinee result': spln\n",
    "               }\n",
    "dfSpline = pd.DataFrame(SplineData)\n",
    "dfSpline.to_excel(pwd + '/data/spline.xlsx')"
   ]
  }
 ],
 "metadata": {
  "interpreter": {
   "hash": "aee8b7b246df8f9039afb4144a1f6fd8d2ca17a180786b69acc140d282b71a49"
  },
  "kernelspec": {
   "display_name": "Python 3.8.5 64-bit",
   "name": "python3"
  },
  "language_info": {
   "codemirror_mode": {
    "name": "ipython",
    "version": 3
   },
   "file_extension": ".py",
   "mimetype": "text/x-python",
   "name": "python",
   "nbconvert_exporter": "python",
   "pygments_lexer": "ipython3",
   "version": "3.8.5"
  }
 },
 "nbformat": 4,
 "nbformat_minor": 5
}
