{
 "cells": [
  {
   "cell_type": "code",
   "execution_count": 97,
   "id": "9890ddb8",
   "metadata": {},
   "outputs": [],
   "source": [
    "import pandas as pd\n",
    "import os"
   ]
  },
  {
   "cell_type": "code",
   "execution_count": 98,
   "id": "5a787bbd",
   "metadata": {},
   "outputs": [],
   "source": [
    "def f(x):\n",
    "    return 2 * x + x**2"
   ]
  },
  {
   "cell_type": "code",
   "execution_count": 99,
   "id": "1b507128",
   "metadata": {},
   "outputs": [],
   "source": [
    "def rectangle(a: int, b: int) -> float:\n",
    "    h = (b - a)\n",
    "    return f(a) * h"
   ]
  },
  {
   "cell_type": "code",
   "execution_count": 100,
   "id": "2a947dae",
   "metadata": {},
   "outputs": [],
   "source": [
    "def rectangles(a: int, b: int) -> float:\n",
    "    h = (b - a) / 10\n",
    "    y = []\n",
    "    for i in range(10):\n",
    "        y.append(f(a))\n",
    "        a += h\n",
    "    return h * sum(y)"
   ]
  },
  {
   "cell_type": "code",
   "execution_count": 101,
   "id": "ba55f489",
   "metadata": {},
   "outputs": [],
   "source": [
    "def trapeze(a: int, b: int) -> float:\n",
    "    h = (b - a)\n",
    "    return h / 2 * (f(a) + f(b))"
   ]
  },
  {
   "cell_type": "code",
   "execution_count": 102,
   "id": "cab146f6",
   "metadata": {},
   "outputs": [],
   "source": [
    "def trapezes(a: int, b: int) -> float:\n",
    "    h = (b - a) / 10\n",
    "    y = []\n",
    "    temp = a\n",
    "    for i in range(9):\n",
    "        temp += h\n",
    "        y.append(f(temp) * 2)\n",
    "    return h / 2 * (f(a) + f(b) + sum(y))"
   ]
  },
  {
   "cell_type": "code",
   "execution_count": 103,
   "id": "431338be",
   "metadata": {},
   "outputs": [],
   "source": [
    "def simpson(a: int, b: int) -> float:\n",
    "    h = (b - a) / 4\n",
    "    return h / 3 * (f(a) + 4 * f(a + h) + f(b))"
   ]
  },
  {
   "cell_type": "code",
   "execution_count": 104,
   "id": "d06102c4",
   "metadata": {},
   "outputs": [],
   "source": [
    "def simpson3_8(a, b,):\n",
    "    h = (b - a) / 3\n",
    "    return (3 * h / 8) * (f(a) + 3 * f(a + h) + 3 * f(a + 2 * h) + f(b))"
   ]
  },
  {
   "cell_type": "code",
   "execution_count": 105,
   "id": "a7d07977",
   "metadata": {},
   "outputs": [],
   "source": [
    "def boole(a: int, b: int, h: int) -> float:\n",
    "    return (2 * h / 45) * (7 * f(a) + 32 * f(a + h) + 12 * f(a + 2 *h) + 32 * f(a + h * 3) + 7 * f(b))"
   ]
  },
  {
   "cell_type": "code",
   "execution_count": 106,
   "id": "2528b36a",
   "metadata": {},
   "outputs": [],
   "source": [
    "a = 2\n",
    "b = 3\n",
    "h = 5"
   ]
  },
  {
   "cell_type": "code",
   "execution_count": 107,
   "id": "f99b5c1b",
   "metadata": {},
   "outputs": [],
   "source": [
    "data = {\n",
    "    'Rec': rectangle(a, b),\n",
    "    'Recs': rectangles(a, b),\n",
    "    'Trap': trapeze(a, b),\n",
    "    'Traps': trapezes(a, b),\n",
    "    'Simpson': simpson(a, b),\n",
    "    'Simpson3/8': simpson3_8(a, b),\n",
    "    'Bool': boole(a, b, h)\n",
    "}"
   ]
  },
  {
   "cell_type": "code",
   "execution_count": 108,
   "id": "187d98b0",
   "metadata": {},
   "outputs": [],
   "source": [
    "pwd = os.getcwd()"
   ]
  },
  {
   "cell_type": "code",
   "execution_count": 109,
   "id": "c229e0ae",
   "metadata": {},
   "outputs": [],
   "source": [
    "df = pd.DataFrame(data, index=[0])\n",
    "# df.to_excel(pwd + '/data.xlsx')"
   ]
  },
  {
   "cell_type": "code",
   "execution_count": 110,
   "id": "5455bd5c",
   "metadata": {},
   "outputs": [
    {
     "data": {
      "text/html": [
       "<div>\n",
       "<style scoped>\n",
       "    .dataframe tbody tr th:only-of-type {\n",
       "        vertical-align: middle;\n",
       "    }\n",
       "\n",
       "    .dataframe tbody tr th {\n",
       "        vertical-align: top;\n",
       "    }\n",
       "\n",
       "    .dataframe thead th {\n",
       "        text-align: right;\n",
       "    }\n",
       "</style>\n",
       "<table border=\"1\" class=\"dataframe\">\n",
       "  <thead>\n",
       "    <tr style=\"text-align: right;\">\n",
       "      <th></th>\n",
       "      <th>Rec</th>\n",
       "      <th>Recs</th>\n",
       "      <th>Trap</th>\n",
       "      <th>Traps</th>\n",
       "      <th>Simpson</th>\n",
       "      <th>Simpson3/8</th>\n",
       "      <th>Bool</th>\n",
       "    </tr>\n",
       "  </thead>\n",
       "  <tbody>\n",
       "    <tr>\n",
       "      <th>0</th>\n",
       "      <td>8</td>\n",
       "      <td>10.985</td>\n",
       "      <td>11.5</td>\n",
       "      <td>11.335</td>\n",
       "      <td>5.104167</td>\n",
       "      <td>11.333333</td>\n",
       "      <td>3228.666667</td>\n",
       "    </tr>\n",
       "  </tbody>\n",
       "</table>\n",
       "</div>"
      ],
      "text/plain": [
       "   Rec    Recs  Trap   Traps   Simpson  Simpson3/8         Bool\n",
       "0    8  10.985  11.5  11.335  5.104167   11.333333  3228.666667"
      ]
     },
     "execution_count": 110,
     "metadata": {},
     "output_type": "execute_result"
    }
   ],
   "source": [
    "df"
   ]
  },
  {
   "cell_type": "code",
   "execution_count": null,
   "id": "db815a1a",
   "metadata": {},
   "outputs": [],
   "source": []
  }
 ],
 "metadata": {
  "kernelspec": {
   "display_name": "Python 3 (ipykernel)",
   "language": "python",
   "name": "python3"
  },
  "language_info": {
   "codemirror_mode": {
    "name": "ipython",
    "version": 3
   },
   "file_extension": ".py",
   "mimetype": "text/x-python",
   "name": "python",
   "nbconvert_exporter": "python",
   "pygments_lexer": "ipython3",
   "version": "3.8.5"
  }
 },
 "nbformat": 4,
 "nbformat_minor": 5
}
