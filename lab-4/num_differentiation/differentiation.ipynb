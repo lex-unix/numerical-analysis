{
 "cells": [
  {
   "cell_type": "code",
   "execution_count": 74,
   "id": "0fde783b",
   "metadata": {},
   "outputs": [],
   "source": [
    "import os\n",
    "import pandas as pd\n",
    "from math import sin, cos, pi\n",
    "pd.set_option(\"display.precision\", 8)"
   ]
  },
  {
   "cell_type": "code",
   "execution_count": 75,
   "id": "8d01971d",
   "metadata": {},
   "outputs": [],
   "source": [
    "pwd = os.getcwd()"
   ]
  },
  {
   "cell_type": "code",
   "execution_count": null,
   "id": "d94b3d93",
   "metadata": {},
   "outputs": [],
   "source": [
    "def foo1(x: float) -> float:\n",
    "    return 2 * (x + 1) ** 3"
   ]
  },
  {
   "cell_type": "code",
   "execution_count": 58,
   "id": "486f6083",
   "metadata": {},
   "outputs": [],
   "source": [
    "def foo2(x: float) -> float:\n",
    "    return sin(x)"
   ]
  },
  {
   "cell_type": "code",
   "execution_count": null,
   "id": "8abc2c6d",
   "metadata": {},
   "outputs": [],
   "source": [
    "def foo3(x: float) -> float:\n",
    "    return cos(x)"
   ]
  },
  {
   "cell_type": "code",
   "execution_count": null,
   "id": "38918bd3",
   "metadata": {},
   "outputs": [],
   "source": [
    "def newton(x: float, h: float, foo):\n",
    "    first_derivative = "
   ]
  },
  {
   "cell_type": "code",
   "execution_count": null,
   "id": "3d618390",
   "metadata": {},
   "outputs": [],
   "source": [
    "def lagrange(x: float, h: float, foo) -> float:\n",
    "    first_derivative = (3 * foo(x) - 4 * foo(x - h) + foo(x - 2 * h)) / (2 * h)\n",
    "    second_derivative = (2 * foo(x) - 5 * foo(x - h) + 4 * foo(x - 2 * h) - foo(x - 3 * h)) / h**2\n",
    "    return first_derivative, second_derivative"
   ]
  },
  {
   "cell_type": "code",
   "execution_count": null,
   "id": "060456a9",
   "metadata": {},
   "outputs": [],
   "source": [
    "def centralDifferenceSquare(x: float, h: float, foo) -> float:\n",
    "    first_derivative = (foo(x + h) - foo(x - h)) / (2 * h)\n",
    "    second_derivative = (foo(x + h) - 2 * foo(x) + foo(x - h)) / h**2\n",
    "    return first_derivative, second_derivative"
   ]
  },
  {
   "cell_type": "code",
   "execution_count": 30,
   "id": "d223111d",
   "metadata": {},
   "outputs": [],
   "source": [
    "def centralDifference(x: float, h: float, foo) -> float:\n",
    "    first_derivative = (-foo(x + 2 * h) + 8 * foo(x + h) - 8 * foo(x - h) + foo(x - 2 * h)) / (12 * h)\n",
    "    second_derivative = (-foo(x + 2 * h) + 16 * foo(x + h) - 30 * foo(x) + 16 * foo(x - h) - foo(x - 2 * h)) / (12 * h**2)\n",
    "    return first_derivative, second_derivative"
   ]
  },
  {
   "cell_type": "code",
   "execution_count": 65,
   "id": "aabfeff9",
   "metadata": {},
   "outputs": [
    {
     "name": "stdout",
     "output_type": "stream",
     "text": [
      "(24.020000000000017, 24.000000000000018)\n",
      "(-0.3090159655438428, -0.9510554605087659)\n"
     ]
    }
   ],
   "source": [
    "x1 = 1\n",
    "x2 = (pi / 2) + (pi / 10)\n",
    "h1 = 0.1\n",
    "h2 = 0.01\n",
    "print(centralDifferenceSquare(x1, h1, foo1))\n",
    "print(centralDifference(x2, h1, foo2))"
   ]
  },
  {
   "cell_type": "code",
   "execution_count": 89,
   "id": "78d36a57",
   "metadata": {},
   "outputs": [],
   "source": [
    "lagrange_data = {\n",
    "    'foo1':lagrange(x1, h2, foo1),\n",
    "    'foo2': lagrange(x2, h2, foo2),\n",
    "    'foo3': lagrange(x2, h2, foo3)\n",
    "}"
   ]
  },
  {
   "cell_type": "code",
   "execution_count": 90,
   "id": "596010ed",
   "metadata": {},
   "outputs": [],
   "source": [
    "lagrange_h1_df = pd.DataFrame(lagrange_data)\n",
    "lagrange_h1_df.to_excel(pwd + '/lagrange_data/lagrange_h2.xlsx')"
   ]
  }
 ],
 "metadata": {
  "kernelspec": {
   "display_name": "Python 3 (ipykernel)",
   "language": "python",
   "name": "python3"
  },
  "language_info": {
   "codemirror_mode": {
    "name": "ipython",
    "version": 3
   },
   "file_extension": ".py",
   "mimetype": "text/x-python",
   "name": "python",
   "nbconvert_exporter": "python",
   "pygments_lexer": "ipython3",
   "version": "3.8.5"
  }
 },
 "nbformat": 4,
 "nbformat_minor": 5
}
