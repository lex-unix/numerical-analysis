{
 "cells": [
  {
   "cell_type": "code",
   "execution_count": 2,
   "metadata": {},
   "outputs": [],
   "source": [
    "import os\n",
    "import numpy as np\n",
    "import pandas as pd\n",
    "from sympy import Symbol, solve"
   ]
  },
  {
   "cell_type": "code",
   "execution_count": 3,
   "metadata": {},
   "outputs": [],
   "source": [
    "A = np.array([\n",
    "    [3.18, 1.12, 0.95, 1.32, 0.83],\n",
    "    [1.12, 4.05, 2.12, 0.57, 0.91],\n",
    "    [0.95, 2.12, 3.13, 1.29, 1.57],\n",
    "    [1.32, 0.57, 1.29, -0.43, 1.25],\n",
    "    [0.83, 0.91, 1.57, 1.25, 3.21]\n",
    "])"
   ]
  },
  {
   "cell_type": "code",
   "execution_count": 3,
   "metadata": {},
   "outputs": [
    {
     "name": "stdout",
     "output_type": "stream",
     "text": [
      "[[ 3.18  1.12  0.95  1.32  0.83]\n",
      " [ 1.12  4.05  2.12  0.57  0.91]\n",
      " [ 0.95  2.12  3.13  1.29  1.57]\n",
      " [ 1.32  0.57  1.29 -0.43  1.25]\n",
      " [ 0.83  0.91  1.57  1.25  3.21]]\n"
     ]
    }
   ],
   "source": [
    "print(A)"
   ]
  },
  {
   "cell_type": "code",
   "execution_count": 4,
   "metadata": {},
   "outputs": [],
   "source": [
    "n = len(A)\n",
    "f = A\n",
    "s = np.identity(n)"
   ]
  },
  {
   "cell_type": "code",
   "execution_count": 5,
   "metadata": {},
   "outputs": [],
   "source": [
    "for i in range(n - 1):\n",
    "    m = np.identity(n)\n",
    "    m[n - 2 - i][:] = f[n - 1 - i][:]\n",
    "    f = np.dot(m, f)\n",
    "    f = np.dot(f, np.linalg.inv(m)) \n",
    "    s = np.dot(s, np.linalg.inv(m))"
   ]
  },
  {
   "cell_type": "code",
   "execution_count": 6,
   "metadata": {
    "scrolled": true
   },
   "outputs": [
    {
     "name": "stdout",
     "output_type": "stream",
     "text": [
      "[ 13.14       -47.0023      35.198168    70.49172687 -77.40956651]\n"
     ]
    }
   ],
   "source": [
    "print(f[0][:])"
   ]
  },
  {
   "cell_type": "code",
   "execution_count": 53,
   "metadata": {},
   "outputs": [
    {
     "name": "stdout",
     "output_type": "stream",
     "text": [
      "[[-0.23505611  2.46787965 -4.45858975 -4.22927376  7.46693337]\n",
      " [ 0.06779018 -0.63997321  0.69355106  1.47528532 -0.80485063]\n",
      " [ 0.12724954 -1.42185431  3.30922958  0.91958158 -5.20274101]\n",
      " [-0.05309942  0.61307742 -1.70079394  1.3792356  -0.40546979]\n",
      " [ 0.          0.          0.          0.          1.        ]]\n"
     ]
    }
   ],
   "source": [
    "print(s)"
   ]
  },
  {
   "cell_type": "code",
   "execution_count": 54,
   "metadata": {},
   "outputs": [
    {
     "name": "stdout",
     "output_type": "stream",
     "text": [
      "[ 13.14       -47.0023      35.198168    70.49172687 -77.40956651]\n"
     ]
    }
   ],
   "source": [
    "p = f[0][:]\n",
    "print(p)"
   ]
  },
  {
   "cell_type": "code",
   "execution_count": 55,
   "metadata": {},
   "outputs": [],
   "source": [
    "x = Symbol('x')\n",
    "Lambda = solve(x**5 - p[0] * x**4 - p[1] * x**3 - p[2] * x**2 - p[3] * x - p[4], x)"
   ]
  },
  {
   "cell_type": "code",
   "execution_count": 56,
   "metadata": {},
   "outputs": [
    {
     "name": "stdout",
     "output_type": "stream",
     "text": [
      "[-1.20112641174683, 1.15861085461439, 2.50253426845358, 2.83237840332966, 7.84760288534920]\n"
     ]
    }
   ],
   "source": [
    "print(Lambda)"
   ]
  },
  {
   "cell_type": "code",
   "execution_count": 57,
   "metadata": {},
   "outputs": [],
   "source": [
    "l = max(Lambda)\n",
    "y = [l**i for i in range(n - 1, -1, -1)]\n",
    "x = np.dot(s,y)\n",
    "r = np.dot(A, x) - l * x"
   ]
  },
  {
   "cell_type": "code",
   "execution_count": 58,
   "metadata": {},
   "outputs": [
    {
     "name": "stdout",
     "output_type": "stream",
     "text": [
      "[0.909632426092779 1.29745733368176 1.25802166320717 0.581462229445302\n",
      " 1.00000000000000]\n"
     ]
    }
   ],
   "source": [
    "print(x)"
   ]
  },
  {
   "cell_type": "code",
   "execution_count": 60,
   "metadata": {
    "scrolled": false
   },
   "outputs": [
    {
     "name": "stdout",
     "output_type": "stream",
     "text": [
      "7.84760288534920\n"
     ]
    }
   ],
   "source": [
    "print(l)"
   ]
  }
 ],
 "metadata": {
  "interpreter": {
   "hash": "aee8b7b246df8f9039afb4144a1f6fd8d2ca17a180786b69acc140d282b71a49"
  },
  "kernelspec": {
   "display_name": "Python 3 (ipykernel)",
   "language": "python",
   "name": "python3"
  },
  "language_info": {
   "codemirror_mode": {
    "name": "ipython",
    "version": 3
   },
   "file_extension": ".py",
   "mimetype": "text/x-python",
   "name": "python",
   "nbconvert_exporter": "python",
   "pygments_lexer": "ipython3",
   "version": "3.8.5"
  }
 },
 "nbformat": 4,
 "nbformat_minor": 2
}
