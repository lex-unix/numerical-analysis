{
 "cells": [
  {
   "cell_type": "code",
   "execution_count": 1,
   "id": "c3f21ccc",
   "metadata": {},
   "outputs": [],
   "source": [
    "import os\n",
    "import pandas as pd\n",
    "import numpy as np\n",
    "from math import sqrt"
   ]
  },
  {
   "cell_type": "code",
   "execution_count": 2,
   "id": "621e7e79",
   "metadata": {},
   "outputs": [],
   "source": [
    "A = np.array([\n",
    "    [3.18, 1.12, 0.95, 1.32, 0.83],\n",
    "    [1.12, 4.05, 2.12, 0.57, 0.91],\n",
    "    [0.95, 2.12, 3.13, 1.29, 1.57],\n",
    "    [1.32, 0.57, 1.29, -0.43, 1.25],\n",
    "    [0.83, 0.91, 1.57, 1.25, 3.21]\n",
    "])"
   ]
  },
  {
   "cell_type": "code",
   "execution_count": 3,
   "id": "063c790b",
   "metadata": {},
   "outputs": [],
   "source": [
    "zero_diagonal = np.array(A)"
   ]
  },
  {
   "cell_type": "code",
   "execution_count": 4,
   "id": "f76c2106",
   "metadata": {},
   "outputs": [],
   "source": [
    "np.fill_diagonal(zero_diagonal, 0)"
   ]
  },
  {
   "cell_type": "code",
   "execution_count": 5,
   "id": "21e87d95",
   "metadata": {},
   "outputs": [],
   "source": [
    "coord = np.where(zero_diagonal == np.amax(zero_diagonal))"
   ]
  },
  {
   "cell_type": "code",
   "execution_count": 8,
   "id": "2d6dee39",
   "metadata": {},
   "outputs": [
    {
     "name": "stdout",
     "output_type": "stream",
     "text": [
      "(array([1, 2]), array([2, 1]))\n"
     ]
    }
   ],
   "source": [
    "print(coord)"
   ]
  },
  {
   "cell_type": "code",
   "execution_count": 9,
   "id": "7e30f6d9",
   "metadata": {},
   "outputs": [],
   "source": [
    "p, q = coord[0]"
   ]
  },
  {
   "cell_type": "code",
   "execution_count": 10,
   "id": "8ce33bf8",
   "metadata": {},
   "outputs": [],
   "source": [
    "# while True:\n",
    "t = A[p, q] / (A[q, q] - A[p, p])\n",
    "c = 1 / sqrt(t**2 + 1)\n",
    "s = c * t\n",
    "R = np.identity(len(A))\n",
    "R[p, p], R[p, q], R[q, p], R[q, q] = c, s, -s, c\n",
    "A = np.dot(R.transpose(), A)\n",
    "A = np.dot(A, R)"
   ]
  },
  {
   "cell_type": "code",
   "execution_count": 12,
   "id": "77d947b3",
   "metadata": {},
   "outputs": [
    {
     "name": "stdout",
     "output_type": "stream",
     "text": [
      "[[ 1.          0.          0.          0.          0.        ]\n",
      " [ 0.          0.39809312  0.91734501  0.          0.        ]\n",
      " [ 0.         -0.91734501  0.39809312  0.          0.        ]\n",
      " [ 0.          0.          0.          1.          0.        ]\n",
      " [ 0.          0.          0.          0.          1.        ]]\n"
     ]
    }
   ],
   "source": [
    "print(R.T)"
   ]
  },
  {
   "cell_type": "code",
   "execution_count": 13,
   "id": "1f257b59",
   "metadata": {},
   "outputs": [
    {
     "name": "stdout",
     "output_type": "stream",
     "text": [
      "[[ 1.          0.          0.          0.          0.        ]\n",
      " [ 0.          0.39809312  0.91734501  0.          0.        ]\n",
      " [-0.         -0.91734501  0.39809312 -0.         -0.        ]\n",
      " [ 0.          0.          0.          1.          0.        ]\n",
      " [ 0.          0.          0.          0.          1.        ]]\n"
     ]
    }
   ],
   "source": [
    "print(np.linalg.inv(R))"
   ]
  },
  {
   "cell_type": "code",
   "execution_count": null,
   "id": "23a58ec9",
   "metadata": {},
   "outputs": [],
   "source": []
  }
 ],
 "metadata": {
  "kernelspec": {
   "display_name": "Python 3 (ipykernel)",
   "language": "python",
   "name": "python3"
  },
  "language_info": {
   "codemirror_mode": {
    "name": "ipython",
    "version": 3
   },
   "file_extension": ".py",
   "mimetype": "text/x-python",
   "name": "python",
   "nbconvert_exporter": "python",
   "pygments_lexer": "ipython3",
   "version": "3.8.5"
  }
 },
 "nbformat": 4,
 "nbformat_minor": 5
}
