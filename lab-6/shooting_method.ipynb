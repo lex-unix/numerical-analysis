{
 "cells": [
  {
   "cell_type": "code",
   "execution_count": 35,
   "id": "92bcee42",
   "metadata": {},
   "outputs": [],
   "source": [
    "import os \n",
    "import pandas as pd\n",
    "import numpy as np"
   ]
  },
  {
   "cell_type": "code",
   "execution_count": 36,
   "id": "03a7d86d",
   "metadata": {},
   "outputs": [],
   "source": [
    "def f1(x, y):\n",
    "    return 1"
   ]
  },
  {
   "cell_type": "code",
   "execution_count": 37,
   "id": "d8e2dd91",
   "metadata": {},
   "outputs": [],
   "source": [
    "def f2(x, y):\n",
    "    return 2 * x / (1 + x**2) * y - 2 / (1 + x**2)"
   ]
  },
  {
   "cell_type": "code",
   "execution_count": 38,
   "id": "3ea7701b",
   "metadata": {},
   "outputs": [],
   "source": [
    "def RungeKutta4(f, a, b, u, N):\n",
    "    h = (b - a) / N\n",
    "    result = []\n",
    "    grid = []\n",
    "    result.append(u)\n",
    "    grid.append(a)\n",
    "    x = a\n",
    "    for i in range(1, N + 1): \n",
    "        k1 = f(x, u)\n",
    "        k2 = f(x + h / 2, u + h * k1 / 2)\n",
    "        k3 = f(x + h / 2, u + h * k2 / 2)\n",
    "        k4 =f(x + h, u + h * k3)\n",
    "        u = u + h * (k1 + 2 * k2 + 2 * k3 + k4)/ 6\n",
    "        x = x + h\n",
    "        result.append(u)\n",
    "        grid.append(x)\n",
    "    return np.array(grid), np.array(result)"
   ]
  },
  {
   "cell_type": "code",
   "execution_count": 43,
   "id": "541f13f3",
   "metadata": {},
   "outputs": [],
   "source": [
    "first_system = RungeKutta4(f1, 0.0, 4.0, 0, 20)"
   ]
  },
  {
   "cell_type": "code",
   "execution_count": 47,
   "id": "bc26742a",
   "metadata": {},
   "outputs": [],
   "source": [
    "second_system = RungeKutta4(f2, 0.0, 4.0, 1, 20)"
   ]
  },
  {
   "cell_type": "code",
   "execution_count": 63,
   "id": "da10dfd1",
   "metadata": {},
   "outputs": [],
   "source": [
    "w = []\n",
    "for i in range(4):\n",
    "       w.append((2.3 - 5.49) / (0.78) * second_system[1][i])"
   ]
  },
  {
   "cell_type": "code",
   "execution_count": 64,
   "id": "38df53cf",
   "metadata": {},
   "outputs": [
    {
     "name": "stdout",
     "output_type": "stream",
     "text": [
      "[-0.0, -1.0633333333333335, -2.126666666666667, -3.1900000000000004]\n"
     ]
    }
   ],
   "source": [
    "print(w)"
   ]
  },
  {
   "cell_type": "code",
   "execution_count": 65,
   "id": "41b22e98",
   "metadata": {},
   "outputs": [],
   "source": [
    "y = []\n",
    "for i in range(4):\n",
    "    y.append(first_system[1][i] + w[i])"
   ]
  },
  {
   "cell_type": "code",
   "execution_count": 66,
   "id": "d07af85c",
   "metadata": {},
   "outputs": [
    {
     "name": "stdout",
     "output_type": "stream",
     "text": [
      "[6.0, 4.786666666666666, 3.553333333333333, 2.299999999999999]\n"
     ]
    }
   ],
   "source": [
    "print(y)"
   ]
  },
  {
   "cell_type": "code",
   "execution_count": 73,
   "id": "0b0aa477",
   "metadata": {},
   "outputs": [],
   "source": [
    "data = {\n",
    "    'x': [2.0 + 0.1 * i for i in range(4)],\n",
    "    'y': y,\n",
    "    'f1': first_system[1][:],\n",
    "    'f2': second_system[1][:],\n",
    "    'w': w\n",
    "}"
   ]
  },
  {
   "cell_type": "code",
   "execution_count": 74,
   "id": "4bfa3ba3",
   "metadata": {},
   "outputs": [
    {
     "data": {
      "text/html": [
       "<div>\n",
       "<style scoped>\n",
       "    .dataframe tbody tr th:only-of-type {\n",
       "        vertical-align: middle;\n",
       "    }\n",
       "\n",
       "    .dataframe tbody tr th {\n",
       "        vertical-align: top;\n",
       "    }\n",
       "\n",
       "    .dataframe thead th {\n",
       "        text-align: right;\n",
       "    }\n",
       "</style>\n",
       "<table border=\"1\" class=\"dataframe\">\n",
       "  <thead>\n",
       "    <tr style=\"text-align: right;\">\n",
       "      <th></th>\n",
       "      <th>x</th>\n",
       "      <th>y</th>\n",
       "      <th>f1</th>\n",
       "      <th>f2</th>\n",
       "      <th>w</th>\n",
       "    </tr>\n",
       "  </thead>\n",
       "  <tbody>\n",
       "    <tr>\n",
       "      <th>0</th>\n",
       "      <td>2.0</td>\n",
       "      <td>6.000000</td>\n",
       "      <td>6.00</td>\n",
       "      <td>0.00</td>\n",
       "      <td>-0.000000</td>\n",
       "    </tr>\n",
       "    <tr>\n",
       "      <th>1</th>\n",
       "      <td>2.1</td>\n",
       "      <td>4.786667</td>\n",
       "      <td>5.85</td>\n",
       "      <td>0.26</td>\n",
       "      <td>-1.063333</td>\n",
       "    </tr>\n",
       "    <tr>\n",
       "      <th>2</th>\n",
       "      <td>2.2</td>\n",
       "      <td>3.553333</td>\n",
       "      <td>5.68</td>\n",
       "      <td>0.52</td>\n",
       "      <td>-2.126667</td>\n",
       "    </tr>\n",
       "    <tr>\n",
       "      <th>3</th>\n",
       "      <td>2.3</td>\n",
       "      <td>2.300000</td>\n",
       "      <td>5.49</td>\n",
       "      <td>0.78</td>\n",
       "      <td>-3.190000</td>\n",
       "    </tr>\n",
       "  </tbody>\n",
       "</table>\n",
       "</div>"
      ],
      "text/plain": [
       "     x         y    f1    f2         w\n",
       "0  2.0  6.000000  6.00  0.00 -0.000000\n",
       "1  2.1  4.786667  5.85  0.26 -1.063333\n",
       "2  2.2  3.553333  5.68  0.52 -2.126667\n",
       "3  2.3  2.300000  5.49  0.78 -3.190000"
      ]
     },
     "execution_count": 74,
     "metadata": {},
     "output_type": "execute_result"
    }
   ],
   "source": [
    "df = pd.DataFrame(data)\n",
    "df"
   ]
  },
  {
   "cell_type": "code",
   "execution_count": 75,
   "id": "a8050952",
   "metadata": {},
   "outputs": [],
   "source": [
    "pwd = os.getcwd()\n",
    "df.to_excel(pwd + '/data/shooting_data.xlsx')"
   ]
  },
  {
   "cell_type": "code",
   "execution_count": null,
   "id": "90df4ba4",
   "metadata": {},
   "outputs": [],
   "source": []
  }
 ],
 "metadata": {
  "kernelspec": {
   "display_name": "Python 3 (ipykernel)",
   "language": "python",
   "name": "python3"
  },
  "language_info": {
   "codemirror_mode": {
    "name": "ipython",
    "version": 3
   },
   "file_extension": ".py",
   "mimetype": "text/x-python",
   "name": "python",
   "nbconvert_exporter": "python",
   "pygments_lexer": "ipython3",
   "version": "3.8.5"
  }
 },
 "nbformat": 4,
 "nbformat_minor": 5
}
