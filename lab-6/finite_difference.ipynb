{
 "cells": [
  {
   "cell_type": "code",
   "execution_count": 12,
   "id": "6f2c47bb",
   "metadata": {},
   "outputs": [],
   "source": [
    "import os\n",
    "import pandas as pd\n",
    "import numpy as np"
   ]
  },
  {
   "cell_type": "code",
   "execution_count": 13,
   "id": "89ae2c02",
   "metadata": {},
   "outputs": [],
   "source": [
    "a = 0.2\n",
    "b = 0.5\n",
    "h = 0.1\n",
    "A = 2\n",
    "B = 1\n",
    "c = []\n",
    "d = []\n",
    "m = [-0.95]\n",
    "k = [1]\n",
    "phi = [0.07211]\n",
    "c1 = 1 / (m[0] + k[0])\n",
    "d1 = phi[0] - k[0] * A * h\n",
    "c.append(c1)\n",
    "d.append(d1)\n",
    "for i in range(1, 3):\n",
    "    x = a + i * h\n",
    "    m.append(-(2 + 2 * h**2) / (1 - x * h))\n",
    "    k.append((1 + x * h) / (1 - x * h))\n",
    "    phi.append(0.6 * h**2 / (1 - x * h))\n",
    "    c.append(1 / (m[i] - k[i] * c[i - 1]))\n",
    "    d.append(phi[i] - k[i] * c[i - 1] * d[i -1])"
   ]
  },
  {
   "cell_type": "code",
   "execution_count": 14,
   "id": "11c64759",
   "metadata": {},
   "outputs": [],
   "source": [
    "y = []\n",
    "b0 = 0.5\n",
    "b1 = -1\n",
    "res = (2 * B * h - b1 * (d[-1] - c[-2] * d[-2])) / (2 * b0 * h + b1 * (c[-2] - 1 / c[-1]))\n",
    "y.append(res)"
   ]
  },
  {
   "cell_type": "code",
   "execution_count": 15,
   "id": "933c6725",
   "metadata": {},
   "outputs": [],
   "source": [
    "c.reverse()\n",
    "d.reverse()"
   ]
  },
  {
   "cell_type": "code",
   "execution_count": 16,
   "id": "c44c4a82",
   "metadata": {},
   "outputs": [],
   "source": [
    "for i in range(len(d) - 1):\n",
    "    y.append(c[i + 1] * (d[i + 1] - y[i]))"
   ]
  },
  {
   "cell_type": "code",
   "execution_count": 17,
   "id": "0d02ddaa",
   "metadata": {},
   "outputs": [],
   "source": [
    "a0 = 0\n",
    "a1 = 1\n",
    "y.append((a1 * y[0] - A * h) / (a1 - a0 * h)) "
   ]
  },
  {
   "cell_type": "code",
   "execution_count": 18,
   "id": "1c5f27cb",
   "metadata": {},
   "outputs": [],
   "source": [
    "y.reverse()\n",
    "c.reverse()\n",
    "d.reverse()"
   ]
  },
  {
   "cell_type": "code",
   "execution_count": 19,
   "id": "8b399747",
   "metadata": {},
   "outputs": [],
   "source": [
    "data = {\n",
    "    'x': [a + h*i for i in range(1, len(y))],\n",
    "    'y': y[1:],\n",
    "    'c': c,\n",
    "    'd': d,\n",
    "    'm': m,\n",
    "    'k': k,\n",
    "    'phi': phi,\n",
    "}"
   ]
  },
  {
   "cell_type": "code",
   "execution_count": 20,
   "id": "0c1c8f38",
   "metadata": {},
   "outputs": [],
   "source": [
    "df = pd.DataFrame(data)"
   ]
  },
  {
   "cell_type": "code",
   "execution_count": 21,
   "id": "ed4d50d7",
   "metadata": {},
   "outputs": [],
   "source": [
    "df.loc[-1] = [f'{a}', f'{y[0]:.6f}', '-', '-', '-', '-', '-']\n",
    "df.index = df.index + 1\n",
    "df = df.sort_index()"
   ]
  },
  {
   "cell_type": "code",
   "execution_count": 22,
   "id": "f679cab5",
   "metadata": {},
   "outputs": [
    {
     "data": {
      "text/html": [
       "<div>\n",
       "<style scoped>\n",
       "    .dataframe tbody tr th:only-of-type {\n",
       "        vertical-align: middle;\n",
       "    }\n",
       "\n",
       "    .dataframe tbody tr th {\n",
       "        vertical-align: top;\n",
       "    }\n",
       "\n",
       "    .dataframe thead th {\n",
       "        text-align: right;\n",
       "    }\n",
       "</style>\n",
       "<table border=\"1\" class=\"dataframe\">\n",
       "  <thead>\n",
       "    <tr style=\"text-align: right;\">\n",
       "      <th></th>\n",
       "      <th>x</th>\n",
       "      <th>y</th>\n",
       "      <th>c</th>\n",
       "      <th>d</th>\n",
       "      <th>m</th>\n",
       "      <th>k</th>\n",
       "      <th>phi</th>\n",
       "    </tr>\n",
       "  </thead>\n",
       "  <tbody>\n",
       "    <tr>\n",
       "      <th>0</th>\n",
       "      <td>0.2</td>\n",
       "      <td>-0.434719</td>\n",
       "      <td>-</td>\n",
       "      <td>-</td>\n",
       "      <td>-</td>\n",
       "      <td>-</td>\n",
       "      <td>-</td>\n",
       "    </tr>\n",
       "    <tr>\n",
       "      <th>1</th>\n",
       "      <td>0.3</td>\n",
       "      <td>-0.021804</td>\n",
       "      <td>20.0</td>\n",
       "      <td>-0.12789</td>\n",
       "      <td>-0.95</td>\n",
       "      <td>1.0</td>\n",
       "      <td>0.07211</td>\n",
       "    </tr>\n",
       "    <tr>\n",
       "      <th>2</th>\n",
       "      <td>0.4</td>\n",
       "      <td>-0.1268</td>\n",
       "      <td>-0.042882</td>\n",
       "      <td>2.7222</td>\n",
       "      <td>-2.082474</td>\n",
       "      <td>1.061856</td>\n",
       "      <td>0.006186</td>\n",
       "    </tr>\n",
       "    <tr>\n",
       "      <th>3</th>\n",
       "      <td>0.5</td>\n",
       "      <td>-0.234719</td>\n",
       "      <td>-0.485977</td>\n",
       "      <td>0.132712</td>\n",
       "      <td>-2.104167</td>\n",
       "      <td>1.083333</td>\n",
       "      <td>0.00625</td>\n",
       "    </tr>\n",
       "  </tbody>\n",
       "</table>\n",
       "</div>"
      ],
      "text/plain": [
       "     x          y         c         d         m         k       phi\n",
       "0  0.2  -0.434719         -         -         -         -         -\n",
       "1  0.3  -0.021804      20.0  -0.12789     -0.95       1.0   0.07211\n",
       "2  0.4    -0.1268 -0.042882    2.7222 -2.082474  1.061856  0.006186\n",
       "3  0.5  -0.234719 -0.485977  0.132712 -2.104167  1.083333   0.00625"
      ]
     },
     "execution_count": 22,
     "metadata": {},
     "output_type": "execute_result"
    }
   ],
   "source": [
    "df"
   ]
  },
  {
   "cell_type": "code",
   "execution_count": 14,
   "id": "0ecac99d",
   "metadata": {},
   "outputs": [],
   "source": [
    "pwd = os.getcwd()"
   ]
  },
  {
   "cell_type": "code",
   "execution_count": 15,
   "id": "1935c73f",
   "metadata": {},
   "outputs": [],
   "source": [
    "df.to_excel(pwd + '/data/finite_diff_data.xlsx')"
   ]
  }
 ],
 "metadata": {
  "kernelspec": {
   "display_name": "Python 3 (ipykernel)",
   "language": "python",
   "name": "python3"
  },
  "language_info": {
   "codemirror_mode": {
    "name": "ipython",
    "version": 3
   },
   "file_extension": ".py",
   "mimetype": "text/x-python",
   "name": "python",
   "nbconvert_exporter": "python",
   "pygments_lexer": "ipython3",
   "version": "3.8.5"
  }
 },
 "nbformat": 4,
 "nbformat_minor": 5
}
