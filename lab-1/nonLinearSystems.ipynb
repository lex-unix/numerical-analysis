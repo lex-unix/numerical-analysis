{
 "cells": [
  {
   "cell_type": "code",
   "execution_count": 1,
   "id": "a18b08dc",
   "metadata": {},
   "outputs": [],
   "source": [
    "import numpy as np\n",
    "import matplotlib.pyplot as plt\n",
    "import pandas as pd\n",
    "import math"
   ]
  },
  {
   "cell_type": "code",
   "execution_count": 2,
   "id": "a0c3cccb",
   "metadata": {},
   "outputs": [],
   "source": [
    "pd.set_option(\"display.precision\", 8)"
   ]
  },
  {
   "cell_type": "markdown",
   "id": "0dada129",
   "metadata": {},
   "source": [
    "# Функции"
   ]
  },
  {
   "cell_type": "code",
   "execution_count": 3,
   "id": "9ad6f429",
   "metadata": {},
   "outputs": [],
   "source": [
    "def foo1(x, y):\n",
    "    return y - 4 * x**3"
   ]
  },
  {
   "cell_type": "code",
   "execution_count": 4,
   "id": "56010eb6",
   "metadata": {},
   "outputs": [],
   "source": [
    "def foo2(x, y):\n",
    "    return x**2 + y**2 - 1"
   ]
  },
  {
   "cell_type": "code",
   "execution_count": 18,
   "id": "907ae0e4",
   "metadata": {},
   "outputs": [],
   "source": [
    "def foo_x(y):\n",
    "    return math.sqrt(y) / 4"
   ]
  },
  {
   "cell_type": "code",
   "execution_count": 19,
   "id": "bf69a6de",
   "metadata": {},
   "outputs": [],
   "source": [
    "def foo_y(x):\n",
    "    return math.sqrt(9 - x**2)"
   ]
  },
  {
   "cell_type": "markdown",
   "id": "26212f13",
   "metadata": {},
   "source": [
    "# Метод простых итераций"
   ]
  },
  {
   "cell_type": "code",
   "execution_count": 22,
   "id": "2e4170b6",
   "metadata": {},
   "outputs": [],
   "source": [
    "x = [1]\n",
    "y = [3]\n",
    "e = 0.000001\n",
    "i = 0\n",
    "errorsX = [0]\n",
    "errorsY = [0]\n",
    "while True:\n",
    "    x.append(foo_x(y[i]))\n",
    "    y.append(foo_y(x[i]))\n",
    "    errorsX.append(abs(x[i + 1] - x[i]))\n",
    "    errorsY.append(abs(y[i + 1] - y[i]))\n",
    "    if max(abs(x[i + 1] - x[i]) <= e, abs(y[i + 1] - y[i])) <= e:\n",
    "        break\n",
    "    i += 1"
   ]
  },
  {
   "cell_type": "code",
   "execution_count": 23,
   "id": "c73600e4",
   "metadata": {},
   "outputs": [],
   "source": [
    "data = {'x': x,\n",
    "        'y': y,\n",
    "        'e(x)': errorsX,\n",
    "        'e(y)': errorsY\n",
    "        }\n",
    "df = pd.DataFrame(data)\n",
    "df.index = np.arange(1, len(df) + 1)\n",
    "df.replace(0, np.nan, inplace=True)"
   ]
  },
  {
   "cell_type": "code",
   "execution_count": 13,
   "id": "ce637d3c",
   "metadata": {},
   "outputs": [
    {
     "data": {
      "text/html": [
       "<div>\n",
       "<style scoped>\n",
       "    .dataframe tbody tr th:only-of-type {\n",
       "        vertical-align: middle;\n",
       "    }\n",
       "\n",
       "    .dataframe tbody tr th {\n",
       "        vertical-align: top;\n",
       "    }\n",
       "\n",
       "    .dataframe thead th {\n",
       "        text-align: right;\n",
       "    }\n",
       "</style>\n",
       "<table border=\"1\" class=\"dataframe\">\n",
       "  <thead>\n",
       "    <tr style=\"text-align: right;\">\n",
       "      <th></th>\n",
       "      <th>a</th>\n",
       "      <th>b</th>\n",
       "      <th>x</th>\n",
       "    </tr>\n",
       "  </thead>\n",
       "  <tbody>\n",
       "    <tr>\n",
       "      <th>0</th>\n",
       "      <td>0.00000000</td>\n",
       "      <td>-0.33333333</td>\n",
       "      <td>-0.33333333</td>\n",
       "    </tr>\n",
       "    <tr>\n",
       "      <th>1</th>\n",
       "      <td>-0.33333333</td>\n",
       "      <td>-3.00000000</td>\n",
       "      <td>-3.00000000</td>\n",
       "    </tr>\n",
       "    <tr>\n",
       "      <th>2</th>\n",
       "      <td>-3.00000000</td>\n",
       "      <td>-0.36263736</td>\n",
       "      <td>-0.36263736</td>\n",
       "    </tr>\n",
       "    <tr>\n",
       "      <th>3</th>\n",
       "      <td>-0.36263736</td>\n",
       "      <td>-0.39058850</td>\n",
       "      <td>-0.39058850</td>\n",
       "    </tr>\n",
       "    <tr>\n",
       "      <th>4</th>\n",
       "      <td>-0.39058850</td>\n",
       "      <td>-1.03362527</td>\n",
       "      <td>-1.03362527</td>\n",
       "    </tr>\n",
       "    <tr>\n",
       "      <th>5</th>\n",
       "      <td>-1.03362527</td>\n",
       "      <td>-0.55908218</td>\n",
       "      <td>-0.55908218</td>\n",
       "    </tr>\n",
       "    <tr>\n",
       "      <th>6</th>\n",
       "      <td>-0.55908218</td>\n",
       "      <td>-0.64003814</td>\n",
       "      <td>-0.64003814</td>\n",
       "    </tr>\n",
       "    <tr>\n",
       "      <th>7</th>\n",
       "      <td>-0.64003814</td>\n",
       "      <td>-0.70590740</td>\n",
       "      <td>-0.70590740</td>\n",
       "    </tr>\n",
       "    <tr>\n",
       "      <th>8</th>\n",
       "      <td>-0.70590740</td>\n",
       "      <td>-0.69235794</td>\n",
       "      <td>-0.69235794</td>\n",
       "    </tr>\n",
       "    <tr>\n",
       "      <th>9</th>\n",
       "      <td>-0.69235794</td>\n",
       "      <td>-0.69334332</td>\n",
       "      <td>-0.69334332</td>\n",
       "    </tr>\n",
       "    <tr>\n",
       "      <th>10</th>\n",
       "      <td>-0.69334332</td>\n",
       "      <td>-0.69336130</td>\n",
       "      <td>-0.69336130</td>\n",
       "    </tr>\n",
       "  </tbody>\n",
       "</table>\n",
       "</div>"
      ],
      "text/plain": [
       "             a           b           x\n",
       "0   0.00000000 -0.33333333 -0.33333333\n",
       "1  -0.33333333 -3.00000000 -3.00000000\n",
       "2  -3.00000000 -0.36263736 -0.36263736\n",
       "3  -0.36263736 -0.39058850 -0.39058850\n",
       "4  -0.39058850 -1.03362527 -1.03362527\n",
       "5  -1.03362527 -0.55908218 -0.55908218\n",
       "6  -0.55908218 -0.64003814 -0.64003814\n",
       "7  -0.64003814 -0.70590740 -0.70590740\n",
       "8  -0.70590740 -0.69235794 -0.69235794\n",
       "9  -0.69235794 -0.69334332 -0.69334332\n",
       "10 -0.69334332 -0.69336130 -0.69336130"
      ]
     },
     "execution_count": 13,
     "metadata": {},
     "output_type": "execute_result"
    }
   ],
   "source": [
    "df"
   ]
  },
  {
   "cell_type": "markdown",
   "id": "379d6a31",
   "metadata": {},
   "source": [
    "# Метод Ньютона"
   ]
  },
  {
   "cell_type": "code",
   "execution_count": 5,
   "id": "a3c0b434",
   "metadata": {},
   "outputs": [],
   "source": [
    "x = [1]\n",
    "y = [1]\n",
    "i = 0\n",
    "e = 0.000001\n",
    "errorsX = [0]\n",
    "errorsY = [0]\n",
    "while True:\n",
    "    f1 = foo1(x[i], y[i])\n",
    "    f2 = foo2(x[i], y[i])\n",
    "    j = np.matrix([[-12 * x[i]**2, 1], \n",
    "                   [2 * x[i], 2 * y[i]]])\n",
    "\n",
    "    mX = np.matrix([[f1, 1],\n",
    "                  [f2, 2 * y[i]]])\n",
    "    \n",
    "    mY = np.matrix([[-12 * x[i]**2, f1],\n",
    "                   [2 * x[i], f2]])\n",
    "    \n",
    "    determinantMX = np.linalg.det(mX)\n",
    "    determinantMY = np.linalg.det(mY)\n",
    "    determinantJ = np.linalg.det(j)\n",
    "    x.append(x[i] - 1 / determinantJ * determinantMX)\n",
    "    y.append(y[i] - 1 / determinantJ * determinantMY)\n",
    "    errorsX.append(abs(x[i + 1] - x[i]))\n",
    "    errorsY.append(abs(y[i + 1] - y[i]))\n",
    "    if max(abs(x[i] - x[i + 1]), abs(y[i] - y[i + 1])) <= e:\n",
    "           break\n",
    "    i += 1 "
   ]
  },
  {
   "cell_type": "code",
   "execution_count": 6,
   "id": "c0a66fab",
   "metadata": {},
   "outputs": [],
   "source": [
    "data = {'x': x,\n",
    "        'y': y,\n",
    "        'e(x)': errorsX,\n",
    "        'e(y)': errorsY\n",
    "       }\n",
    "df = pd.DataFrame(data)\n",
    "df.index = np.arange(1, len(df) + 1)\n",
    "df.replace(0, np.nan, inplace=True)"
   ]
  },
  {
   "cell_type": "code",
   "execution_count": 7,
   "id": "99fcebef",
   "metadata": {},
   "outputs": [
    {
     "data": {
      "text/html": [
       "<div>\n",
       "<style scoped>\n",
       "    .dataframe tbody tr th:only-of-type {\n",
       "        vertical-align: middle;\n",
       "    }\n",
       "\n",
       "    .dataframe tbody tr th {\n",
       "        vertical-align: top;\n",
       "    }\n",
       "\n",
       "    .dataframe thead th {\n",
       "        text-align: right;\n",
       "    }\n",
       "</style>\n",
       "<table border=\"1\" class=\"dataframe\">\n",
       "  <thead>\n",
       "    <tr style=\"text-align: right;\">\n",
       "      <th></th>\n",
       "      <th>x</th>\n",
       "      <th>y</th>\n",
       "      <th>e(x)</th>\n",
       "      <th>e(y)</th>\n",
       "    </tr>\n",
       "  </thead>\n",
       "  <tbody>\n",
       "    <tr>\n",
       "      <th>1</th>\n",
       "      <td>1.00000000</td>\n",
       "      <td>1.00000000</td>\n",
       "      <td>NaN</td>\n",
       "      <td>NaN</td>\n",
       "    </tr>\n",
       "    <tr>\n",
       "      <th>2</th>\n",
       "      <td>0.73076923</td>\n",
       "      <td>0.76923077</td>\n",
       "      <td>2.69230769e-01</td>\n",
       "      <td>2.30769231e-01</td>\n",
       "    </tr>\n",
       "    <tr>\n",
       "      <th>3</th>\n",
       "      <td>0.61206054</td>\n",
       "      <td>0.80027326</td>\n",
       "      <td>1.18708691e-01</td>\n",
       "      <td>3.10424869e-02</td>\n",
       "    </tr>\n",
       "    <tr>\n",
       "      <th>4</th>\n",
       "      <td>0.58805228</td>\n",
       "      <td>0.80922871</td>\n",
       "      <td>2.40082556e-02</td>\n",
       "      <td>8.95545519e-03</td>\n",
       "    </tr>\n",
       "    <tr>\n",
       "      <th>5</th>\n",
       "      <td>0.58711228</td>\n",
       "      <td>0.80950611</td>\n",
       "      <td>9.40009384e-04</td>\n",
       "      <td>2.77395506e-04</td>\n",
       "    </tr>\n",
       "    <tr>\n",
       "      <th>6</th>\n",
       "      <td>0.58711087</td>\n",
       "      <td>0.80950653</td>\n",
       "      <td>1.40390540e-06</td>\n",
       "      <td>4.24909875e-07</td>\n",
       "    </tr>\n",
       "    <tr>\n",
       "      <th>7</th>\n",
       "      <td>0.58711087</td>\n",
       "      <td>0.80950653</td>\n",
       "      <td>3.12960768e-12</td>\n",
       "      <td>9.40914013e-13</td>\n",
       "    </tr>\n",
       "  </tbody>\n",
       "</table>\n",
       "</div>"
      ],
      "text/plain": [
       "            x           y            e(x)            e(y)\n",
       "1  1.00000000  1.00000000             NaN             NaN\n",
       "2  0.73076923  0.76923077  2.69230769e-01  2.30769231e-01\n",
       "3  0.61206054  0.80027326  1.18708691e-01  3.10424869e-02\n",
       "4  0.58805228  0.80922871  2.40082556e-02  8.95545519e-03\n",
       "5  0.58711228  0.80950611  9.40009384e-04  2.77395506e-04\n",
       "6  0.58711087  0.80950653  1.40390540e-06  4.24909875e-07\n",
       "7  0.58711087  0.80950653  3.12960768e-12  9.40914013e-13"
      ]
     },
     "execution_count": 7,
     "metadata": {},
     "output_type": "execute_result"
    }
   ],
   "source": [
    "df"
   ]
  },
  {
   "cell_type": "markdown",
   "id": "74439f8f",
   "metadata": {},
   "source": [
    "# Метод Зейделя"
   ]
  },
  {
   "cell_type": "code",
   "execution_count": 24,
   "id": "d19f7d97",
   "metadata": {},
   "outputs": [],
   "source": [
    "x = [1]\n",
    "y = [3]\n",
    "i = 0\n",
    "e = 0.000001\n",
    "errorsX = [0]\n",
    "errorsY = [0]\n",
    "while True:\n",
    "    x.append(foo_x(y[i]))\n",
    "    y.append(foo_y(x[i + 1]))\n",
    "    errorsX.append(abs(x[i + 1] - x[i]))\n",
    "    errorsY.append(abs(y[i + 1] - y[i]))\n",
    "    if max(abs(x[i] - x[i + 1]), abs(y[i] - y[i + 1])) <= e:\n",
    "           break\n",
    "    i += 1"
   ]
  },
  {
   "cell_type": "code",
   "execution_count": 25,
   "id": "fe9616d7",
   "metadata": {},
   "outputs": [],
   "source": [
    "data = {'x': x,\n",
    "        'y': y,\n",
    "        'e(x)': errorsX,\n",
    "        'e(y)': errorsY\n",
    "       }\n",
    "df = pd.DataFrame(data)\n",
    "df.index = np.arange(1, len(df) + 1)\n",
    "df.replace(0, np.nan, inplace=True)"
   ]
  },
  {
   "cell_type": "code",
   "execution_count": 26,
   "id": "845e3110",
   "metadata": {},
   "outputs": [
    {
     "data": {
      "text/html": [
       "<div>\n",
       "<style scoped>\n",
       "    .dataframe tbody tr th:only-of-type {\n",
       "        vertical-align: middle;\n",
       "    }\n",
       "\n",
       "    .dataframe tbody tr th {\n",
       "        vertical-align: top;\n",
       "    }\n",
       "\n",
       "    .dataframe thead th {\n",
       "        text-align: right;\n",
       "    }\n",
       "</style>\n",
       "<table border=\"1\" class=\"dataframe\">\n",
       "  <thead>\n",
       "    <tr style=\"text-align: right;\">\n",
       "      <th></th>\n",
       "      <th>x</th>\n",
       "      <th>y</th>\n",
       "      <th>e(x)</th>\n",
       "      <th>e(y)</th>\n",
       "    </tr>\n",
       "  </thead>\n",
       "  <tbody>\n",
       "    <tr>\n",
       "      <th>1</th>\n",
       "      <td>1.00000000</td>\n",
       "      <td>3.00000000</td>\n",
       "      <td>NaN</td>\n",
       "      <td>NaN</td>\n",
       "    </tr>\n",
       "    <tr>\n",
       "      <th>2</th>\n",
       "      <td>0.43301270</td>\n",
       "      <td>2.96858552</td>\n",
       "      <td>0.56698730</td>\n",
       "      <td>0.03141448</td>\n",
       "    </tr>\n",
       "    <tr>\n",
       "      <th>3</th>\n",
       "      <td>0.43073959</td>\n",
       "      <td>2.96891620</td>\n",
       "      <td>0.00227311</td>\n",
       "      <td>0.00033068</td>\n",
       "    </tr>\n",
       "    <tr>\n",
       "      <th>4</th>\n",
       "      <td>0.43076358</td>\n",
       "      <td>2.96891272</td>\n",
       "      <td>0.00002399</td>\n",
       "      <td>0.00000348</td>\n",
       "    </tr>\n",
       "    <tr>\n",
       "      <th>5</th>\n",
       "      <td>0.43076333</td>\n",
       "      <td>2.96891276</td>\n",
       "      <td>0.00000025</td>\n",
       "      <td>0.00000004</td>\n",
       "    </tr>\n",
       "  </tbody>\n",
       "</table>\n",
       "</div>"
      ],
      "text/plain": [
       "            x           y        e(x)        e(y)\n",
       "1  1.00000000  3.00000000         NaN         NaN\n",
       "2  0.43301270  2.96858552  0.56698730  0.03141448\n",
       "3  0.43073959  2.96891620  0.00227311  0.00033068\n",
       "4  0.43076358  2.96891272  0.00002399  0.00000348\n",
       "5  0.43076333  2.96891276  0.00000025  0.00000004"
      ]
     },
     "execution_count": 26,
     "metadata": {},
     "output_type": "execute_result"
    }
   ],
   "source": [
    "df"
   ]
  }
 ],
 "metadata": {
  "interpreter": {
   "hash": "aee8b7b246df8f9039afb4144a1f6fd8d2ca17a180786b69acc140d282b71a49"
  },
  "kernelspec": {
   "display_name": "Python 3 (ipykernel)",
   "language": "python",
   "name": "python3"
  },
  "language_info": {
   "codemirror_mode": {
    "name": "ipython",
    "version": 3
   },
   "file_extension": ".py",
   "mimetype": "text/x-python",
   "name": "python",
   "nbconvert_exporter": "python",
   "pygments_lexer": "ipython3",
   "version": "3.8.5"
  }
 },
 "nbformat": 4,
 "nbformat_minor": 5
}
