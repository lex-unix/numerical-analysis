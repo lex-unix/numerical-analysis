{
 "cells": [
  {
   "cell_type": "code",
   "execution_count": 1,
   "id": "4f3e6f0a",
   "metadata": {},
   "outputs": [],
   "source": [
    "import os\n",
    "import numpy as np\n",
    "import pandas as pd\n",
    "from myFunction import foo"
   ]
  },
  {
   "cell_type": "code",
   "execution_count": 2,
   "id": "106f0c24",
   "metadata": {},
   "outputs": [],
   "source": [
    "def MilneSimpson(f, a, b, start_values, N):\n",
    "    h = (b - a) / N\n",
    "    result = start_values.copy()\n",
    "    x = [a + h * i for i in range(4)]\n",
    "    y = [f(x[i], start_values[i]) for i in range(4)]\n",
    "    yold = 0\n",
    "    pold = 0\n",
    "    for i in range(3, N):\n",
    "        pnew = result[i - 3] + 4 * h / 3 * (2 * y[i - 2] - y[i - 1] + 2 * y[i])\n",
    "        pmod = pnew + 28 * (yold - pold) / 29\n",
    "        x.append(a + h * (i + 1))\n",
    "        y.append(foo(x[i + 1], pmod))\n",
    "        u = result[i - 1] + h / 3 * (y[i - 1] + 4 * y[i] + y[i + 1])\n",
    "        result.append(u)\n",
    "        yold = u\n",
    "        pold = pnew\n",
    "    return np.array(x), np.array(result)"
   ]
  },
  {
   "cell_type": "markdown",
   "id": "1b267234",
   "metadata": {},
   "source": [
    "### Extract first 4 points using Taylor method "
   ]
  },
  {
   "cell_type": "code",
   "execution_count": 3,
   "id": "39ba53e9",
   "metadata": {},
   "outputs": [],
   "source": [
    "pwd = os.getcwd()"
   ]
  },
  {
   "cell_type": "code",
   "execution_count": 4,
   "id": "ae295110",
   "metadata": {},
   "outputs": [],
   "source": [
    "taylor_data = pd.read_excel(pwd + '/data/taylor_data/taylor_h2.xlsx')"
   ]
  },
  {
   "cell_type": "code",
   "execution_count": 5,
   "id": "e1d8d77d",
   "metadata": {},
   "outputs": [
    {
     "data": {
      "text/html": [
       "<div>\n",
       "<style scoped>\n",
       "    .dataframe tbody tr th:only-of-type {\n",
       "        vertical-align: middle;\n",
       "    }\n",
       "\n",
       "    .dataframe tbody tr th {\n",
       "        vertical-align: top;\n",
       "    }\n",
       "\n",
       "    .dataframe thead th {\n",
       "        text-align: right;\n",
       "    }\n",
       "</style>\n",
       "<table border=\"1\" class=\"dataframe\">\n",
       "  <thead>\n",
       "    <tr style=\"text-align: right;\">\n",
       "      <th></th>\n",
       "      <th>y</th>\n",
       "    </tr>\n",
       "  </thead>\n",
       "  <tbody>\n",
       "    <tr>\n",
       "      <th>0</th>\n",
       "      <td>10.000000</td>\n",
       "    </tr>\n",
       "    <tr>\n",
       "      <th>1</th>\n",
       "      <td>188.968750</td>\n",
       "    </tr>\n",
       "    <tr>\n",
       "      <th>2</th>\n",
       "      <td>489.175049</td>\n",
       "    </tr>\n",
       "    <tr>\n",
       "      <th>3</th>\n",
       "      <td>989.233870</td>\n",
       "    </tr>\n",
       "  </tbody>\n",
       "</table>\n",
       "</div>"
      ],
      "text/plain": [
       "            y\n",
       "0   10.000000\n",
       "1  188.968750\n",
       "2  489.175049\n",
       "3  989.233870"
      ]
     },
     "execution_count": 5,
     "metadata": {},
     "output_type": "execute_result"
    }
   ],
   "source": [
    "taylor_data['y'][:4].to_frame()"
   ]
  },
  {
   "cell_type": "code",
   "execution_count": 6,
   "id": "ef52d843",
   "metadata": {},
   "outputs": [],
   "source": [
    "start_values = taylor_data['y'][:4].tolist()"
   ]
  },
  {
   "cell_type": "code",
   "execution_count": 7,
   "id": "77971360",
   "metadata": {},
   "outputs": [],
   "source": [
    "a = 16\n",
    "b = 19\n",
    "n = 6"
   ]
  },
  {
   "cell_type": "markdown",
   "id": "6e0d12cc",
   "metadata": {},
   "source": [
    "### Get results using Milne-Simpson predictor-corrector method"
   ]
  },
  {
   "cell_type": "code",
   "execution_count": 8,
   "id": "4c9f8ae6",
   "metadata": {},
   "outputs": [],
   "source": [
    "x, y = MilneSimpson(foo, a, b, start_values, n)"
   ]
  },
  {
   "cell_type": "code",
   "execution_count": 9,
   "id": "18ca514f",
   "metadata": {},
   "outputs": [],
   "source": [
    "data = {\n",
    "    'x': x,\n",
    "    'y': y\n",
    "}"
   ]
  },
  {
   "cell_type": "code",
   "execution_count": 10,
   "id": "b4642b16",
   "metadata": {},
   "outputs": [],
   "source": [
    "df = pd.DataFrame(data)"
   ]
  },
  {
   "cell_type": "code",
   "execution_count": 11,
   "id": "e95eca16",
   "metadata": {
    "scrolled": true
   },
   "outputs": [
    {
     "data": {
      "text/html": [
       "<div>\n",
       "<style scoped>\n",
       "    .dataframe tbody tr th:only-of-type {\n",
       "        vertical-align: middle;\n",
       "    }\n",
       "\n",
       "    .dataframe tbody tr th {\n",
       "        vertical-align: top;\n",
       "    }\n",
       "\n",
       "    .dataframe thead th {\n",
       "        text-align: right;\n",
       "    }\n",
       "</style>\n",
       "<table border=\"1\" class=\"dataframe\">\n",
       "  <thead>\n",
       "    <tr style=\"text-align: right;\">\n",
       "      <th></th>\n",
       "      <th>x</th>\n",
       "      <th>y</th>\n",
       "    </tr>\n",
       "  </thead>\n",
       "  <tbody>\n",
       "    <tr>\n",
       "      <th>0</th>\n",
       "      <td>16.0</td>\n",
       "      <td>10.000000</td>\n",
       "    </tr>\n",
       "    <tr>\n",
       "      <th>1</th>\n",
       "      <td>16.5</td>\n",
       "      <td>188.968750</td>\n",
       "    </tr>\n",
       "    <tr>\n",
       "      <th>2</th>\n",
       "      <td>17.0</td>\n",
       "      <td>489.175049</td>\n",
       "    </tr>\n",
       "    <tr>\n",
       "      <th>3</th>\n",
       "      <td>17.5</td>\n",
       "      <td>989.233870</td>\n",
       "    </tr>\n",
       "    <tr>\n",
       "      <th>4</th>\n",
       "      <td>18.0</td>\n",
       "      <td>1823.330158</td>\n",
       "    </tr>\n",
       "    <tr>\n",
       "      <th>5</th>\n",
       "      <td>18.5</td>\n",
       "      <td>3196.513085</td>\n",
       "    </tr>\n",
       "    <tr>\n",
       "      <th>6</th>\n",
       "      <td>19.0</td>\n",
       "      <td>5469.217454</td>\n",
       "    </tr>\n",
       "  </tbody>\n",
       "</table>\n",
       "</div>"
      ],
      "text/plain": [
       "      x            y\n",
       "0  16.0    10.000000\n",
       "1  16.5   188.968750\n",
       "2  17.0   489.175049\n",
       "3  17.5   989.233870\n",
       "4  18.0  1823.330158\n",
       "5  18.5  3196.513085\n",
       "6  19.0  5469.217454"
      ]
     },
     "execution_count": 11,
     "metadata": {},
     "output_type": "execute_result"
    }
   ],
   "source": [
    "df"
   ]
  },
  {
   "cell_type": "code",
   "execution_count": 169,
   "id": "1d4528ed",
   "metadata": {},
   "outputs": [],
   "source": [
    "df.to_excel(pwd + '/data/milne-simpson_data/ms_h2.xlsx')"
   ]
  }
 ],
 "metadata": {
  "kernelspec": {
   "display_name": "Python 3 (ipykernel)",
   "language": "python",
   "name": "python3"
  },
  "language_info": {
   "codemirror_mode": {
    "name": "ipython",
    "version": 3
   },
   "file_extension": ".py",
   "mimetype": "text/x-python",
   "name": "python",
   "nbconvert_exporter": "python",
   "pygments_lexer": "ipython3",
   "version": "3.8.5"
  }
 },
 "nbformat": 4,
 "nbformat_minor": 5
}
