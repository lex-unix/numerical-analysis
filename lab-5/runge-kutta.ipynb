{
 "cells": [
  {
   "cell_type": "code",
   "execution_count": 1,
   "id": "5f4f2f05",
   "metadata": {},
   "outputs": [],
   "source": [
    "import os\n",
    "import pandas as pd\n",
    "import numpy as np\n",
    "from myFunction import foo"
   ]
  },
  {
   "cell_type": "code",
   "execution_count": 2,
   "id": "633daa6a",
   "metadata": {},
   "outputs": [],
   "source": [
    "pd.set_option('display.float_format', lambda x: '%.5f' % x)"
   ]
  },
  {
   "cell_type": "code",
   "execution_count": 3,
   "id": "81b8c013",
   "metadata": {},
   "outputs": [],
   "source": [
    "def RungeKutta4(f, a, b, u, N):\n",
    "    h = (b - a) / N\n",
    "    result = []\n",
    "    grid = []\n",
    "    result.append(u)\n",
    "    grid.append(a)\n",
    "    x = a\n",
    "    for i in range(1, N + 1): \n",
    "        k1 = f(x, u)\n",
    "        k2 = f(x + h / 2, u + h * k1 / 2)\n",
    "        k3 = f(x + h / 2, u + h * k2 / 2)\n",
    "        k4 =f(x + h, u + h * k3)\n",
    "        u = u + h * (k1 + 2 * k2 + 2 * k3 + k4)/ 6\n",
    "        x = x + h\n",
    "        result.append(u)\n",
    "        grid.append(x)\n",
    "    return np.array(grid), np.array(result)"
   ]
  },
  {
   "cell_type": "code",
   "execution_count": 4,
   "id": "6d80f68b",
   "metadata": {},
   "outputs": [],
   "source": [
    "a = 8\n",
    "b = 11\n",
    "n = 12\n",
    "u = 5"
   ]
  },
  {
   "cell_type": "code",
   "execution_count": 5,
   "id": "493a8590",
   "metadata": {},
   "outputs": [],
   "source": [
    "x, y = RungeKutta4(foo, a, b, u, n)"
   ]
  },
  {
   "cell_type": "code",
   "execution_count": 6,
   "id": "05b62015",
   "metadata": {},
   "outputs": [],
   "source": [
    "data = {\n",
    "    'x': x,\n",
    "    'y': y\n",
    "}"
   ]
  },
  {
   "cell_type": "code",
   "execution_count": 7,
   "id": "8b33c3b8",
   "metadata": {},
   "outputs": [],
   "source": [
    "df = pd.DataFrame(data)"
   ]
  },
  {
   "cell_type": "code",
   "execution_count": 8,
   "id": "8f1b1068",
   "metadata": {},
   "outputs": [
    {
     "data": {
      "text/html": [
       "<div>\n",
       "<style scoped>\n",
       "    .dataframe tbody tr th:only-of-type {\n",
       "        vertical-align: middle;\n",
       "    }\n",
       "\n",
       "    .dataframe tbody tr th {\n",
       "        vertical-align: top;\n",
       "    }\n",
       "\n",
       "    .dataframe thead th {\n",
       "        text-align: right;\n",
       "    }\n",
       "</style>\n",
       "<table border=\"1\" class=\"dataframe\">\n",
       "  <thead>\n",
       "    <tr style=\"text-align: right;\">\n",
       "      <th></th>\n",
       "      <th>x</th>\n",
       "      <th>y</th>\n",
       "    </tr>\n",
       "  </thead>\n",
       "  <tbody>\n",
       "    <tr>\n",
       "      <th>0</th>\n",
       "      <td>8.00000</td>\n",
       "      <td>5.00000</td>\n",
       "    </tr>\n",
       "    <tr>\n",
       "      <th>1</th>\n",
       "      <td>8.25000</td>\n",
       "      <td>49.14795</td>\n",
       "    </tr>\n",
       "    <tr>\n",
       "      <th>2</th>\n",
       "      <td>8.50000</td>\n",
       "      <td>202.81686</td>\n",
       "    </tr>\n",
       "    <tr>\n",
       "      <th>3</th>\n",
       "      <td>8.75000</td>\n",
       "      <td>735.26358</td>\n",
       "    </tr>\n",
       "    <tr>\n",
       "      <th>4</th>\n",
       "      <td>9.00000</td>\n",
       "      <td>2577.71187</td>\n",
       "    </tr>\n",
       "    <tr>\n",
       "      <th>5</th>\n",
       "      <td>9.25000</td>\n",
       "      <td>8950.79549</td>\n",
       "    </tr>\n",
       "    <tr>\n",
       "      <th>6</th>\n",
       "      <td>9.50000</td>\n",
       "      <td>30993.06368</td>\n",
       "    </tr>\n",
       "    <tr>\n",
       "      <th>7</th>\n",
       "      <td>9.75000</td>\n",
       "      <td>107227.14554</td>\n",
       "    </tr>\n",
       "    <tr>\n",
       "      <th>8</th>\n",
       "      <td>10.00000</td>\n",
       "      <td>370883.40327</td>\n",
       "    </tr>\n",
       "    <tr>\n",
       "      <th>9</th>\n",
       "      <td>10.25000</td>\n",
       "      <td>1282738.52410</td>\n",
       "    </tr>\n",
       "    <tr>\n",
       "      <th>10</th>\n",
       "      <td>10.50000</td>\n",
       "      <td>4436386.88094</td>\n",
       "    </tr>\n",
       "    <tr>\n",
       "      <th>11</th>\n",
       "      <td>10.75000</td>\n",
       "      <td>15343268.38756</td>\n",
       "    </tr>\n",
       "    <tr>\n",
       "      <th>12</th>\n",
       "      <td>11.00000</td>\n",
       "      <td>53064676.45659</td>\n",
       "    </tr>\n",
       "  </tbody>\n",
       "</table>\n",
       "</div>"
      ],
      "text/plain": [
       "          x              y\n",
       "0   8.00000        5.00000\n",
       "1   8.25000       49.14795\n",
       "2   8.50000      202.81686\n",
       "3   8.75000      735.26358\n",
       "4   9.00000     2577.71187\n",
       "5   9.25000     8950.79549\n",
       "6   9.50000    30993.06368\n",
       "7   9.75000   107227.14554\n",
       "8  10.00000   370883.40327\n",
       "9  10.25000  1282738.52410\n",
       "10 10.50000  4436386.88094\n",
       "11 10.75000 15343268.38756\n",
       "12 11.00000 53064676.45659"
      ]
     },
     "execution_count": 8,
     "metadata": {},
     "output_type": "execute_result"
    }
   ],
   "source": [
    "df"
   ]
  },
  {
   "cell_type": "code",
   "execution_count": 9,
   "id": "4945180e",
   "metadata": {},
   "outputs": [],
   "source": [
    "pwd = os.getcwd()"
   ]
  },
  {
   "cell_type": "code",
   "execution_count": 10,
   "id": "acba733c",
   "metadata": {},
   "outputs": [],
   "source": [
    "df.to_excel(pwd + '/data/runge-kutta_data/rk_h3.xlsx')"
   ]
  },
  {
   "cell_type": "code",
   "execution_count": null,
   "id": "8c0b2ff2",
   "metadata": {},
   "outputs": [],
   "source": []
  }
 ],
 "metadata": {
  "kernelspec": {
   "display_name": "Python 3 (ipykernel)",
   "language": "python",
   "name": "python3"
  },
  "language_info": {
   "codemirror_mode": {
    "name": "ipython",
    "version": 3
   },
   "file_extension": ".py",
   "mimetype": "text/x-python",
   "name": "python",
   "nbconvert_exporter": "python",
   "pygments_lexer": "ipython3",
   "version": "3.9.10"
  }
 },
 "nbformat": 4,
 "nbformat_minor": 5
}
