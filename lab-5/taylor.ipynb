{
 "cells": [
  {
   "cell_type": "code",
   "execution_count": 1,
   "id": "8524a82e",
   "metadata": {},
   "outputs": [],
   "source": [
    "import os\n",
    "import numpy as np\n",
    "import pandas as pd\n",
    "from myFunction import foo"
   ]
  },
  {
   "cell_type": "code",
   "execution_count": 2,
   "id": "c6657579",
   "metadata": {},
   "outputs": [],
   "source": [
    "def taylor(f, a, b, u, N):\n",
    "    h = (b - a) / N\n",
    "    grid = []\n",
    "    result = []\n",
    "    grid.append(a)\n",
    "    result.append(u)\n",
    "    x = a\n",
    "    for i in range(1, N + 1):\n",
    "        df = [foo(x, u), foo(x, u), foo(x, u), foo(x, u)]\n",
    "        u = u + h * (df[0] + h * (df[1] / 2 + h * (df[2] / 6 + h * df[3] / 24)))\n",
    "        x += h\n",
    "        result.append(u)\n",
    "        grid.append(x)\n",
    "    return  np.array(grid), np.array(result)"
   ]
  },
  {
   "cell_type": "code",
   "execution_count": 3,
   "id": "0c72e5ff",
   "metadata": {},
   "outputs": [],
   "source": [
    "a = 16\n",
    "b = 19\n",
    "n = 6\n",
    "u = 10"
   ]
  },
  {
   "cell_type": "code",
   "execution_count": 4,
   "id": "54795924",
   "metadata": {},
   "outputs": [],
   "source": [
    "x, y = taylor(foo, a, b, u, n)"
   ]
  },
  {
   "cell_type": "code",
   "execution_count": 5,
   "id": "3a32c67a",
   "metadata": {},
   "outputs": [],
   "source": [
    "data = {\n",
    "    'x': x,\n",
    "    'y': y\n",
    "}"
   ]
  },
  {
   "cell_type": "code",
   "execution_count": 6,
   "id": "b08f8286",
   "metadata": {},
   "outputs": [],
   "source": [
    "df = pd.DataFrame(data)"
   ]
  },
  {
   "cell_type": "code",
   "execution_count": 7,
   "id": "95c76f28",
   "metadata": {},
   "outputs": [
    {
     "data": {
      "text/html": [
       "<div>\n",
       "<style scoped>\n",
       "    .dataframe tbody tr th:only-of-type {\n",
       "        vertical-align: middle;\n",
       "    }\n",
       "\n",
       "    .dataframe tbody tr th {\n",
       "        vertical-align: top;\n",
       "    }\n",
       "\n",
       "    .dataframe thead th {\n",
       "        text-align: right;\n",
       "    }\n",
       "</style>\n",
       "<table border=\"1\" class=\"dataframe\">\n",
       "  <thead>\n",
       "    <tr style=\"text-align: right;\">\n",
       "      <th></th>\n",
       "      <th>x</th>\n",
       "      <th>y</th>\n",
       "    </tr>\n",
       "  </thead>\n",
       "  <tbody>\n",
       "    <tr>\n",
       "      <th>0</th>\n",
       "      <td>16.0</td>\n",
       "      <td>10.000000</td>\n",
       "    </tr>\n",
       "    <tr>\n",
       "      <th>1</th>\n",
       "      <td>16.5</td>\n",
       "      <td>125.421875</td>\n",
       "    </tr>\n",
       "    <tr>\n",
       "      <th>2</th>\n",
       "      <td>17.0</td>\n",
       "      <td>617.656860</td>\n",
       "    </tr>\n",
       "    <tr>\n",
       "      <th>3</th>\n",
       "      <td>17.5</td>\n",
       "      <td>2708.403712</td>\n",
       "    </tr>\n",
       "    <tr>\n",
       "      <th>4</th>\n",
       "      <td>18.0</td>\n",
       "      <td>11580.337623</td>\n",
       "    </tr>\n",
       "    <tr>\n",
       "      <th>5</th>\n",
       "      <td>18.5</td>\n",
       "      <td>49219.338511</td>\n",
       "    </tr>\n",
       "    <tr>\n",
       "      <th>6</th>\n",
       "      <td>19.0</td>\n",
       "      <td>208893.631339</td>\n",
       "    </tr>\n",
       "  </tbody>\n",
       "</table>\n",
       "</div>"
      ],
      "text/plain": [
       "      x              y\n",
       "0  16.0      10.000000\n",
       "1  16.5     125.421875\n",
       "2  17.0     617.656860\n",
       "3  17.5    2708.403712\n",
       "4  18.0   11580.337623\n",
       "5  18.5   49219.338511\n",
       "6  19.0  208893.631339"
      ]
     },
     "execution_count": 7,
     "metadata": {},
     "output_type": "execute_result"
    }
   ],
   "source": [
    "df"
   ]
  },
  {
   "cell_type": "code",
   "execution_count": 8,
   "id": "925087f5",
   "metadata": {
    "scrolled": true
   },
   "outputs": [],
   "source": [
    "pwd = os.getcwd()"
   ]
  },
  {
   "cell_type": "code",
   "execution_count": 64,
   "id": "cbe47249",
   "metadata": {},
   "outputs": [],
   "source": [
    "df.to_excel(pwd + '/data/taylor_data/taylor_h3.xlsx')"
   ]
  },
  {
   "cell_type": "code",
   "execution_count": 65,
   "id": "3374d80d",
   "metadata": {},
   "outputs": [],
   "source": [
    "from derevatives import secondDer, thirdDer, fourthDer"
   ]
  }
 ],
 "metadata": {
  "kernelspec": {
   "display_name": "Python 3 (ipykernel)",
   "language": "python",
   "name": "python3"
  },
  "language_info": {
   "codemirror_mode": {
    "name": "ipython",
    "version": 3
   },
   "file_extension": ".py",
   "mimetype": "text/x-python",
   "name": "python",
   "nbconvert_exporter": "python",
   "pygments_lexer": "ipython3",
   "version": "3.8.5"
  }
 },
 "nbformat": 4,
 "nbformat_minor": 5
}
