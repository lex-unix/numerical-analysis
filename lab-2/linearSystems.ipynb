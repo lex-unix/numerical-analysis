{
 "cells": [
  {
   "cell_type": "markdown",
   "id": "545670b4",
   "metadata": {},
   "source": [
    "# System of linear equations"
   ]
  },
  {
   "cell_type": "code",
   "execution_count": 2,
   "id": "6122c12d",
   "metadata": {},
   "outputs": [],
   "source": [
    "import numpy as np\n",
    "import pandas as pd\n",
    "import math"
   ]
  },
  {
   "cell_type": "markdown",
   "id": "cc72a0e2",
   "metadata": {},
   "source": [
    "# Gaussian method"
   ]
  },
  {
   "cell_type": "code",
   "execution_count": 8,
   "id": "a55eeb72",
   "metadata": {},
   "outputs": [
    {
     "name": "stdout",
     "output_type": "stream",
     "text": [
      "[[ 0.20895522  0.03731343 -0.21641791]\n",
      " [ 0.04477612  0.18656716 -0.08208955]\n",
      " [-0.05970149 -0.08208955  0.2761194 ]]\n"
     ]
    }
   ],
   "source": [
    "A = np.array([\n",
    "    [6, 1, 5],\n",
    "    [-1, 6, 1],\n",
    "    [1, 2, 5]\n",
    "              ])\n",
    "inverseA = np.linalg.inv(A)\n",
    "print(inverseA)"
   ]
  },
  {
   "cell_type": "code",
   "execution_count": 7,
   "id": "d3587720",
   "metadata": {
    "scrolled": true
   },
   "outputs": [],
   "source": [
    "A = np.array([\n",
    "    [6, 1, 5],\n",
    "    [-1, 6, 1],\n",
    "    [1, 2, 5]\n",
    "              ])\n",
    "\n",
    "b = np.array([9.21, 4.41, 12.29])\n",
    "determinantA = np.linalg.det(A)\n",
    "inverseA = np.linalg.inv(A)\n",
    "equations = []\n",
    "x = [0, 0, 0]\n",
    "while len(A) != 1:\n",
    "    coeff = []\n",
    "    for i in range(1, len(A)):\n",
    "        coeff.append(A[0, i] / A[0, 0])\n",
    "    coeff.append(b[0] / A[0, 0])\n",
    "    equations.append([c for c in coeff])\n",
    "    A = np.delete(A, 0, 0)\n",
    "    leadCoeff = A[:, 0]\n",
    "    A = np.delete(A, 0, 1)\n",
    "    b = np.delete(b, 0)\n",
    "    for i in range(len(A)):\n",
    "        for j in range(len(A)):\n",
    "            A[i, j] = A[i, j] - leadCoeff[i] * coeff[j]\n",
    "        b[i] = b[i] - leadCoeff[i] * coeff[-1]"
   ]
  },
  {
   "cell_type": "code",
   "execution_count": 3,
   "id": "dbcb8ebc",
   "metadata": {},
   "outputs": [],
   "source": [
    "x[2] = b[0] / A[0]\n",
    "x[1] = equations[1][1] - equations[1][0] * x[2]\n",
    "x[0] = equations[0][2] - equations[0][0] * x[1] - equations[0][1] * x[2]"
   ]
  },
  {
   "cell_type": "code",
   "execution_count": 4,
   "id": "e7da56a3",
   "metadata": {},
   "outputs": [
    {
     "name": "stdout",
     "output_type": "stream",
     "text": [
      "x1 = 0.5644777388143936\n",
      "x2 = 1.625186829362499\n",
      "x3 = 0.390834058532871\n"
     ]
    }
   ],
   "source": [
    "for i, answer in enumerate(x):\n",
    "    print(\"x%s = %s\" % (i + 1, float(answer)))"
   ]
  },
  {
   "cell_type": "code",
   "execution_count": 5,
   "id": "6dcc8f12",
   "metadata": {},
   "outputs": [
    {
     "name": "stdout",
     "output_type": "stream",
     "text": [
      "Det(A) = -614.3286229999994\n"
     ]
    }
   ],
   "source": [
    "print(f'Det(A) = {determinantA}')"
   ]
  },
  {
   "cell_type": "code",
   "execution_count": 6,
   "id": "0e91b94d",
   "metadata": {},
   "outputs": [
    {
     "name": "stdout",
     "output_type": "stream",
     "text": [
      "[[ 0.05558149 -0.07054449  0.029591  ]\n",
      " [ 0.01600691  0.07955123  0.09169587]\n",
      " [ 0.10110436  0.07434083 -0.07064118]]\n"
     ]
    }
   ],
   "source": [
    "print(inverseA)"
   ]
  },
  {
   "cell_type": "markdown",
   "id": "acfb8fc0",
   "metadata": {},
   "source": [
    "## Square root method"
   ]
  },
  {
   "cell_type": "code",
   "execution_count": 21,
   "id": "1bb4c3f5",
   "metadata": {},
   "outputs": [],
   "source": [
    "A = np.array([\n",
    "    [6.43, 1.12, 0.95, 1.32, 0.83],\n",
    "    [1.12, 3.03, 2.12, 0.57, 0.91],\n",
    "    [0.95, 2.12, 7.38, 1.29, 1.57],\n",
    "    [1.32, 0.57, 1.29, 3.32, 1.25],\n",
    "    [0.83, 0.91, 1.57, 1.25, 6.46]\n",
    "])\n",
    "\n",
    "b = np.array([7.94, 3.21, 2.53, 6.25, 6.70])"
   ]
  },
  {
   "cell_type": "code",
   "execution_count": 12,
   "id": "7696175e",
   "metadata": {},
   "outputs": [],
   "source": [
    "A = np.array([\n",
    "    [6.93, 1.12, 0.95, 1.32, 0.83],\n",
    "    [1.12, 2.53, 2.12, 0.57, 0.91],\n",
    "    [0.95, 2.12, 7.88, 1.29, 1.57],\n",
    "    [1.32, 0.57, 1.29, 2.82, 1.25],\n",
    "    [0.83, 0.91, 1.57, 1.25, 6.96]\n",
    "])\n",
    "\n",
    "b = np.array([8.64, 3.21, 1.83, 6.25, 7.4])"
   ]
  },
  {
   "cell_type": "code",
   "execution_count": 22,
   "id": "c12acf2c",
   "metadata": {
    "scrolled": true
   },
   "outputs": [
    {
     "name": "stdout",
     "output_type": "stream",
     "text": [
      "[[6.43 1.12 0.95 1.32 0.83]\n",
      " [1.12 3.03 2.12 0.57 0.91]\n",
      " [0.95 2.12 7.38 1.29 1.57]\n",
      " [1.32 0.57 1.29 3.32 1.25]\n",
      " [0.83 0.91 1.57 1.25 6.46]]\n"
     ]
    }
   ],
   "source": [
    "print(A)"
   ]
  },
  {
   "cell_type": "code",
   "execution_count": 23,
   "id": "8abbea91",
   "metadata": {},
   "outputs": [],
   "source": [
    "t = np.eye(5, 5)    \n",
    "for i in range(len(A)):\n",
    "    for j in range(i, len(A)):\n",
    "        if i == j:\n",
    "            sumOfT = 0\n",
    "            for k in range(i):\n",
    "                sumOfT += t[k, j]**2\n",
    "            t[i, j] = math.sqrt(A[i , j] - sumOfT)\n",
    "        elif i < j:\n",
    "            multOfT = 0\n",
    "            for k in range(i):\n",
    "                multOfT += t[k, i] * t[k, j]\n",
    "            t[i, j] = (A[i, j] - multOfT) / t[i, i]"
   ]
  },
  {
   "cell_type": "code",
   "execution_count": 24,
   "id": "3b8cd196",
   "metadata": {
    "scrolled": false
   },
   "outputs": [
    {
     "name": "stdout",
     "output_type": "stream",
     "text": [
      "[[2.53574447 0.44168488 0.37464343 0.52055718 0.32732005]\n",
      " [0.         1.68372042 1.16083741 0.20197995 0.45460498]\n",
      " [0.         0.         2.42736458 0.35450414 0.37886737]\n",
      " [0.         0.         0.         1.69780774 0.50269535]\n",
      " [0.         0.         0.         0.         2.39790592]]\n"
     ]
    }
   ],
   "source": [
    "print(t)"
   ]
  },
  {
   "cell_type": "code",
   "execution_count": 25,
   "id": "b5ecbcf3",
   "metadata": {
    "scrolled": false
   },
   "outputs": [
    {
     "name": "stdout",
     "output_type": "stream",
     "text": [
      "[[2.53574447 0.         0.         0.         0.        ]\n",
      " [0.44168488 1.68372042 0.         0.         0.        ]\n",
      " [0.37464343 1.16083741 2.42736458 0.         0.        ]\n",
      " [0.52055718 0.20197995 0.35450414 1.69780774 0.        ]\n",
      " [0.32732005 0.45460498 0.37886737 0.50269535 2.39790592]]\n"
     ]
    }
   ],
   "source": [
    "tt = t.transpose()\n",
    "print(tt)"
   ]
  },
  {
   "cell_type": "code",
   "execution_count": 26,
   "id": "3f9e77f3",
   "metadata": {},
   "outputs": [],
   "source": [
    "y = []\n",
    "for i in range(len(tt)):\n",
    "    mult = 0\n",
    "    for j in range(i):\n",
    "        mult += tt[i, j] * y[j]\n",
    "    y.append((b[i] - mult) / tt[i, i])"
   ]
  },
  {
   "cell_type": "code",
   "execution_count": 27,
   "id": "a8b9fa8e",
   "metadata": {},
   "outputs": [
    {
     "name": "stdout",
     "output_type": "stream",
     "text": [
      "[3.1312303366986436, 1.0850868514344996, 0.04008286149888717, 2.5837084587019046, 1.6129887767857682]\n"
     ]
    }
   ],
   "source": [
    "print(y)"
   ]
  },
  {
   "cell_type": "code",
   "execution_count": 28,
   "id": "b5228d00",
   "metadata": {},
   "outputs": [],
   "source": [
    "x = []\n",
    "\n",
    "for i in range(len(t) - 1, -1, -1):\n",
    "    mult = 0\n",
    "    k = 0\n",
    "    for j in range(len(t) - 1, i, -1):\n",
    "        mult += t[i, j] * x[k]\n",
    "        k += 1\n",
    "    x.append((y[i] - mult) / t[i, i])"
   ]
  },
  {
   "cell_type": "code",
   "execution_count": 29,
   "id": "a7109fb8",
   "metadata": {},
   "outputs": [
    {
     "name": "stdout",
     "output_type": "stream",
     "text": [
      "[0.8312950949181156, 0.4983516562563084, -0.28164048550084414, 1.3226247837278757, 0.6726655799692267]\n"
     ]
    }
   ],
   "source": [
    "x.reverse()\n",
    "print(x)"
   ]
  },
  {
   "cell_type": "markdown",
   "id": "9b166aeb",
   "metadata": {},
   "source": [
    "# Simple iteration method"
   ]
  },
  {
   "cell_type": "code",
   "execution_count": 3,
   "id": "d067bde5",
   "metadata": {},
   "outputs": [],
   "source": [
    "A = np.array([\n",
    "    [5.5, 2.2, 1.2],\n",
    "    [2.2, 5.5, -1.5],\n",
    "    [1.2, -1.5, 6.6]\n",
    "])\n",
    "\n",
    "b = np.array([1.5, 0.8, 6])\n",
    "x1 = [3]\n",
    "x2 = [3.8]\n",
    "x3 = [2]\n",
    "e1 = [0]\n",
    "e2 = [0]\n",
    "e3 = [0]\n",
    "i = 0\n",
    "while True:\n",
    "    x1.append((b[0] - A[0, 1] * x2[i] - A[0, 2] * x3[i]) / A[0, 0]) \n",
    "    x2.append((b[1] - A[1, 0] * x1[i] - A[1, 2] * x3[i]) / A[1, 1]) \n",
    "    x3.append((b[2] - A[2, 0] * x1[i] - A[2, 1] * x2[i]) / A[1, 1])\n",
    "    e1.append(abs(x1[i] - x1[i - 1]))\n",
    "    e2.append(abs(x2[i] - x2[i - 1]))\n",
    "    e3.append(abs(x3[i] - x3[i - 1]))\n",
    "    if max(e1[i + 1], e2[i + 1], e3[i + 1]) < 10**-4:\n",
    "        break\n",
    "    i += 1\n"
   ]
  },
  {
   "cell_type": "code",
   "execution_count": 4,
   "id": "9428b986",
   "metadata": {},
   "outputs": [],
   "source": [
    "data = {'x1': x1,\n",
    "        'x2': x2,\n",
    "        'x3': x3,\n",
    "        'e(x1)': e1,\n",
    "        'e(x2)': e2, \n",
    "        'e(x3)': e3}\n",
    "df = pd.DataFrame(data)"
   ]
  },
  {
   "cell_type": "code",
   "execution_count": 5,
   "id": "e18356ec",
   "metadata": {
    "scrolled": true
   },
   "outputs": [
    {
     "data": {
      "text/html": [
       "<div>\n",
       "<style scoped>\n",
       "    .dataframe tbody tr th:only-of-type {\n",
       "        vertical-align: middle;\n",
       "    }\n",
       "\n",
       "    .dataframe tbody tr th {\n",
       "        vertical-align: top;\n",
       "    }\n",
       "\n",
       "    .dataframe thead th {\n",
       "        text-align: right;\n",
       "    }\n",
       "</style>\n",
       "<table border=\"1\" class=\"dataframe\">\n",
       "  <thead>\n",
       "    <tr style=\"text-align: right;\">\n",
       "      <th></th>\n",
       "      <th>x1</th>\n",
       "      <th>x2</th>\n",
       "      <th>x3</th>\n",
       "      <th>e(x1)</th>\n",
       "      <th>e(x2)</th>\n",
       "      <th>e(x3)</th>\n",
       "    </tr>\n",
       "  </thead>\n",
       "  <tbody>\n",
       "    <tr>\n",
       "      <th>0</th>\n",
       "      <td>3.000000</td>\n",
       "      <td>3.800000</td>\n",
       "      <td>2.000000</td>\n",
       "      <td>0.000000</td>\n",
       "      <td>0.000000</td>\n",
       "      <td>0.000000</td>\n",
       "    </tr>\n",
       "    <tr>\n",
       "      <th>1</th>\n",
       "      <td>-1.683636</td>\n",
       "      <td>-0.509091</td>\n",
       "      <td>1.472727</td>\n",
       "      <td>4.683636</td>\n",
       "      <td>4.309091</td>\n",
       "      <td>0.527273</td>\n",
       "    </tr>\n",
       "    <tr>\n",
       "      <th>2</th>\n",
       "      <td>0.155041</td>\n",
       "      <td>1.220562</td>\n",
       "      <td>1.319405</td>\n",
       "      <td>4.683636</td>\n",
       "      <td>4.309091</td>\n",
       "      <td>0.527273</td>\n",
       "    </tr>\n",
       "    <tr>\n",
       "      <th>3</th>\n",
       "      <td>-0.503368</td>\n",
       "      <td>0.443276</td>\n",
       "      <td>1.389962</td>\n",
       "      <td>1.838678</td>\n",
       "      <td>1.729653</td>\n",
       "      <td>0.153322</td>\n",
       "    </tr>\n",
       "    <tr>\n",
       "      <th>4</th>\n",
       "      <td>-0.207848</td>\n",
       "      <td>0.725882</td>\n",
       "      <td>1.321628</td>\n",
       "      <td>0.658409</td>\n",
       "      <td>0.777286</td>\n",
       "      <td>0.070557</td>\n",
       "    </tr>\n",
       "    <tr>\n",
       "      <th>5</th>\n",
       "      <td>-0.305981</td>\n",
       "      <td>0.589038</td>\n",
       "      <td>1.334226</td>\n",
       "      <td>0.295520</td>\n",
       "      <td>0.282607</td>\n",
       "      <td>0.068334</td>\n",
       "    </tr>\n",
       "    <tr>\n",
       "      <th>6</th>\n",
       "      <td>-0.253992</td>\n",
       "      <td>0.631727</td>\n",
       "      <td>1.318315</td>\n",
       "      <td>0.098133</td>\n",
       "      <td>0.136845</td>\n",
       "      <td>0.012597</td>\n",
       "    </tr>\n",
       "    <tr>\n",
       "      <th>7</th>\n",
       "      <td>-0.267596</td>\n",
       "      <td>0.606592</td>\n",
       "      <td>1.318614</td>\n",
       "      <td>0.051989</td>\n",
       "      <td>0.042689</td>\n",
       "      <td>0.015910</td>\n",
       "    </tr>\n",
       "    <tr>\n",
       "      <th>8</th>\n",
       "      <td>-0.257607</td>\n",
       "      <td>0.612115</td>\n",
       "      <td>1.314728</td>\n",
       "      <td>0.013604</td>\n",
       "      <td>0.025135</td>\n",
       "      <td>0.000299</td>\n",
       "    </tr>\n",
       "    <tr>\n",
       "      <th>9</th>\n",
       "      <td>-0.258968</td>\n",
       "      <td>0.607059</td>\n",
       "      <td>1.314055</td>\n",
       "      <td>0.009989</td>\n",
       "      <td>0.005523</td>\n",
       "      <td>0.003887</td>\n",
       "    </tr>\n",
       "    <tr>\n",
       "      <th>10</th>\n",
       "      <td>-0.256799</td>\n",
       "      <td>0.607420</td>\n",
       "      <td>1.312973</td>\n",
       "      <td>0.001361</td>\n",
       "      <td>0.005055</td>\n",
       "      <td>0.000673</td>\n",
       "    </tr>\n",
       "    <tr>\n",
       "      <th>11</th>\n",
       "      <td>-0.256708</td>\n",
       "      <td>0.606258</td>\n",
       "      <td>1.312598</td>\n",
       "      <td>0.002169</td>\n",
       "      <td>0.000361</td>\n",
       "      <td>0.001082</td>\n",
       "    </tr>\n",
       "    <tr>\n",
       "      <th>12</th>\n",
       "      <td>-0.256161</td>\n",
       "      <td>0.606119</td>\n",
       "      <td>1.312261</td>\n",
       "      <td>0.000092</td>\n",
       "      <td>0.001163</td>\n",
       "      <td>0.000375</td>\n",
       "    </tr>\n",
       "    <tr>\n",
       "      <th>13</th>\n",
       "      <td>-0.256032</td>\n",
       "      <td>0.605808</td>\n",
       "      <td>1.312104</td>\n",
       "      <td>0.000547</td>\n",
       "      <td>0.000139</td>\n",
       "      <td>0.000337</td>\n",
       "    </tr>\n",
       "    <tr>\n",
       "      <th>14</th>\n",
       "      <td>-0.255873</td>\n",
       "      <td>0.605714</td>\n",
       "      <td>1.311991</td>\n",
       "      <td>0.000129</td>\n",
       "      <td>0.000311</td>\n",
       "      <td>0.000157</td>\n",
       "    </tr>\n",
       "    <tr>\n",
       "      <th>15</th>\n",
       "      <td>-0.255811</td>\n",
       "      <td>0.605620</td>\n",
       "      <td>1.311931</td>\n",
       "      <td>0.000159</td>\n",
       "      <td>0.000095</td>\n",
       "      <td>0.000113</td>\n",
       "    </tr>\n",
       "    <tr>\n",
       "      <th>16</th>\n",
       "      <td>-0.255760</td>\n",
       "      <td>0.605578</td>\n",
       "      <td>1.311891</td>\n",
       "      <td>0.000062</td>\n",
       "      <td>0.000094</td>\n",
       "      <td>0.000060</td>\n",
       "    </tr>\n",
       "  </tbody>\n",
       "</table>\n",
       "</div>"
      ],
      "text/plain": [
       "          x1        x2        x3     e(x1)     e(x2)     e(x3)\n",
       "0   3.000000  3.800000  2.000000  0.000000  0.000000  0.000000\n",
       "1  -1.683636 -0.509091  1.472727  4.683636  4.309091  0.527273\n",
       "2   0.155041  1.220562  1.319405  4.683636  4.309091  0.527273\n",
       "3  -0.503368  0.443276  1.389962  1.838678  1.729653  0.153322\n",
       "4  -0.207848  0.725882  1.321628  0.658409  0.777286  0.070557\n",
       "5  -0.305981  0.589038  1.334226  0.295520  0.282607  0.068334\n",
       "6  -0.253992  0.631727  1.318315  0.098133  0.136845  0.012597\n",
       "7  -0.267596  0.606592  1.318614  0.051989  0.042689  0.015910\n",
       "8  -0.257607  0.612115  1.314728  0.013604  0.025135  0.000299\n",
       "9  -0.258968  0.607059  1.314055  0.009989  0.005523  0.003887\n",
       "10 -0.256799  0.607420  1.312973  0.001361  0.005055  0.000673\n",
       "11 -0.256708  0.606258  1.312598  0.002169  0.000361  0.001082\n",
       "12 -0.256161  0.606119  1.312261  0.000092  0.001163  0.000375\n",
       "13 -0.256032  0.605808  1.312104  0.000547  0.000139  0.000337\n",
       "14 -0.255873  0.605714  1.311991  0.000129  0.000311  0.000157\n",
       "15 -0.255811  0.605620  1.311931  0.000159  0.000095  0.000113\n",
       "16 -0.255760  0.605578  1.311891  0.000062  0.000094  0.000060"
      ]
     },
     "execution_count": 5,
     "metadata": {},
     "output_type": "execute_result"
    }
   ],
   "source": [
    "df"
   ]
  },
  {
   "cell_type": "code",
   "execution_count": 2,
   "id": "ccaa54a3",
   "metadata": {
    "scrolled": true
   },
   "outputs": [
    {
     "name": "stdout",
     "output_type": "stream",
     "text": [
      "7.94\n"
     ]
    }
   ],
   "source": [
    "A = np.array([\n",
    "    [6.43, 1.12, 0.95, 1.32, 0.83],\n",
    "    [1.12, 5.03, 2.12, 0.57, 0.91],\n",
    "    [0.95, 2.12, 7.38, 1.29, 1.57],\n",
    "    [1.32, 0.57, 1.29, 3.32, 1.25],\n",
    "    [0.83, 0.91, 1.57, 1.25, 6.46]\n",
    "])\n",
    "\n",
    "b = np.array([7.94, 3.21, 2.53, 6.25, 6.70])\n",
    "x1 = [7.94]\n",
    "x2 = [3.21]\n",
    "x3 = [2.53]\n",
    "x4 = [6.25]\n",
    "x5 = [6.70]\n",
    "e1 = [0]\n",
    "e2 = [0]\n",
    "e3 = [0]\n",
    "e4 = [0]\n",
    "e5 = [0]\n",
    "i = 0\n",
    "while True:\n",
    "    x1.append((b[0] - A[0, 1] * x2[i] - A[0, 2] * x3[i] - A[0, 3] * x4[i] - A[0, 4] * x5[i]) / A[0, 0]) \n",
    "    x2.append((b[1] - A[1, 0] * x1[i] - A[1, 2] * x3[i] - A[1, 3] * x4[i] - A[1, 4] * x5[i]) / A[1, 1]) \n",
    "    x3.append((b[2] - A[2, 0] * x1[i] - A[2, 1] * x2[i] - A[2, 3] * x4[i] - A[2, 4] * x5[i]) / A[2, 2])\n",
    "    x4.append((b[3] - A[3, 0] * x1[i] - A[3, 1] * x2[i] - A[3, 2] * x3[i] - A[3, 4] * x5[i]) / A[3, 3])\n",
    "    x5.append((b[4] - A[4, 0] * x1[i] - A[4, 1] * x2[i] - A[4, 2] * x3[i] - A[4, 3] * x4[i]) / A[4, 4])\n",
    "    e1.append(abs(x1[i] - x1[i - 1]))\n",
    "    e2.append(abs(x2[i] - x2[i - 1]))\n",
    "    e3.append(abs(x3[i] - x3[i - 1]))\n",
    "    e4.append(abs(x4[i] - x4[i - 1]))\n",
    "    e5.append(abs(x5[i] - x5[i - 1]))\n",
    "    if max(e1[i + 1], e2[i + 1], e3[i + 1], e4[i + 1], e5[i + 1]) < 10**-4:\n",
    "        break\n",
    "    i += 1"
   ]
  },
  {
   "cell_type": "code",
   "execution_count": 6,
   "id": "6c21f04b",
   "metadata": {},
   "outputs": [],
   "source": [
    "data = {'x1': x1,\n",
    "        'x2': x2,\n",
    "        'x3': x3,\n",
    "        'x4': x4,\n",
    "        'x5': x5,\n",
    "        'e(x1)': e1,\n",
    "        'e(x2)': e2, \n",
    "        'e(x3)': e3,\n",
    "        'e(x4)': e4,\n",
    "        'e(x5)': e5}\n",
    "df = pd.DataFrame(data)"
   ]
  },
  {
   "cell_type": "code",
   "execution_count": 9,
   "id": "18ae7ef0",
   "metadata": {},
   "outputs": [
    {
     "data": {
      "text/html": [
       "<div>\n",
       "<style scoped>\n",
       "    .dataframe tbody tr th:only-of-type {\n",
       "        vertical-align: middle;\n",
       "    }\n",
       "\n",
       "    .dataframe tbody tr th {\n",
       "        vertical-align: top;\n",
       "    }\n",
       "\n",
       "    .dataframe thead th {\n",
       "        text-align: right;\n",
       "    }\n",
       "</style>\n",
       "<table border=\"1\" class=\"dataframe\">\n",
       "  <thead>\n",
       "    <tr style=\"text-align: right;\">\n",
       "      <th></th>\n",
       "      <th>x1</th>\n",
       "      <th>x2</th>\n",
       "      <th>x3</th>\n",
       "      <th>x4</th>\n",
       "      <th>x5</th>\n",
       "      <th>e(x1)</th>\n",
       "      <th>e(x2)</th>\n",
       "      <th>e(x3)</th>\n",
       "      <th>e(x4)</th>\n",
       "      <th>e(x5)</th>\n",
       "    </tr>\n",
       "  </thead>\n",
       "  <tbody>\n",
       "    <tr>\n",
       "      <th>0</th>\n",
       "      <td>7.940000</td>\n",
       "      <td>3.210000</td>\n",
       "      <td>2.530000</td>\n",
       "      <td>6.250000</td>\n",
       "      <td>6.700000</td>\n",
       "      <td>0.000000</td>\n",
       "      <td>0.000000</td>\n",
       "      <td>0.000000</td>\n",
       "      <td>0.000000</td>\n",
       "      <td>0.000000</td>\n",
       "    </tr>\n",
       "    <tr>\n",
       "      <th>1</th>\n",
       "      <td>-1.845988</td>\n",
       "      <td>-4.116481</td>\n",
       "      <td>-4.119201</td>\n",
       "      <td>-5.331084</td>\n",
       "      <td>-2.259427</td>\n",
       "      <td>9.785988</td>\n",
       "      <td>7.326481</td>\n",
       "      <td>6.649201</td>\n",
       "      <td>11.581084</td>\n",
       "      <td>8.959427</td>\n",
       "    </tr>\n",
       "    <tr>\n",
       "      <th>2</th>\n",
       "      <td>3.946509</td>\n",
       "      <td>3.798212</td>\n",
       "      <td>3.175478</td>\n",
       "      <td>5.774443</td>\n",
       "      <td>3.886868</td>\n",
       "      <td>9.785988</td>\n",
       "      <td>7.326481</td>\n",
       "      <td>6.649201</td>\n",
       "      <td>11.581084</td>\n",
       "      <td>8.959427</td>\n",
       "    </tr>\n",
       "    <tr>\n",
       "      <th>3</th>\n",
       "      <td>-1.583059</td>\n",
       "      <td>-2.936498</td>\n",
       "      <td>-3.092521</td>\n",
       "      <td>-3.035941</td>\n",
       "      <td>-1.894045</td>\n",
       "      <td>5.792497</td>\n",
       "      <td>7.914693</td>\n",
       "      <td>7.294679</td>\n",
       "      <td>11.105527</td>\n",
       "      <td>6.146295</td>\n",
       "    </tr>\n",
       "    <tr>\n",
       "      <th>4</th>\n",
       "      <td>3.070960</td>\n",
       "      <td>2.980763</td>\n",
       "      <td>2.323753</td>\n",
       "      <td>4.930828</td>\n",
       "      <td>2.993241</td>\n",
       "      <td>5.529568</td>\n",
       "      <td>6.734711</td>\n",
       "      <td>6.267999</td>\n",
       "      <td>8.810384</td>\n",
       "      <td>5.780913</td>\n",
       "    </tr>\n",
       "    <tr>\n",
       "      <th>...</th>\n",
       "      <td>...</td>\n",
       "      <td>...</td>\n",
       "      <td>...</td>\n",
       "      <td>...</td>\n",
       "      <td>...</td>\n",
       "      <td>...</td>\n",
       "      <td>...</td>\n",
       "      <td>...</td>\n",
       "      <td>...</td>\n",
       "      <td>...</td>\n",
       "    </tr>\n",
       "    <tr>\n",
       "      <th>82</th>\n",
       "      <td>0.861271</td>\n",
       "      <td>0.265745</td>\n",
       "      <td>-0.221570</td>\n",
       "      <td>1.321953</td>\n",
       "      <td>0.687186</td>\n",
       "      <td>0.000094</td>\n",
       "      <td>0.000118</td>\n",
       "      <td>0.000109</td>\n",
       "      <td>0.000158</td>\n",
       "      <td>0.000099</td>\n",
       "    </tr>\n",
       "    <tr>\n",
       "      <th>83</th>\n",
       "      <td>0.861200</td>\n",
       "      <td>0.265656</td>\n",
       "      <td>-0.221652</td>\n",
       "      <td>1.321834</td>\n",
       "      <td>0.687111</td>\n",
       "      <td>0.000082</td>\n",
       "      <td>0.000102</td>\n",
       "      <td>0.000094</td>\n",
       "      <td>0.000137</td>\n",
       "      <td>0.000086</td>\n",
       "    </tr>\n",
       "    <tr>\n",
       "      <th>84</th>\n",
       "      <td>0.861261</td>\n",
       "      <td>0.265734</td>\n",
       "      <td>-0.221580</td>\n",
       "      <td>1.321938</td>\n",
       "      <td>0.687176</td>\n",
       "      <td>0.000071</td>\n",
       "      <td>0.000089</td>\n",
       "      <td>0.000082</td>\n",
       "      <td>0.000119</td>\n",
       "      <td>0.000074</td>\n",
       "    </tr>\n",
       "    <tr>\n",
       "      <th>85</th>\n",
       "      <td>0.861208</td>\n",
       "      <td>0.265667</td>\n",
       "      <td>-0.221642</td>\n",
       "      <td>1.321848</td>\n",
       "      <td>0.687120</td>\n",
       "      <td>0.000062</td>\n",
       "      <td>0.000077</td>\n",
       "      <td>0.000071</td>\n",
       "      <td>0.000103</td>\n",
       "      <td>0.000065</td>\n",
       "    </tr>\n",
       "    <tr>\n",
       "      <th>86</th>\n",
       "      <td>0.861254</td>\n",
       "      <td>0.265725</td>\n",
       "      <td>-0.221588</td>\n",
       "      <td>1.321926</td>\n",
       "      <td>0.687169</td>\n",
       "      <td>0.000054</td>\n",
       "      <td>0.000067</td>\n",
       "      <td>0.000062</td>\n",
       "      <td>0.000090</td>\n",
       "      <td>0.000056</td>\n",
       "    </tr>\n",
       "  </tbody>\n",
       "</table>\n",
       "<p>87 rows × 10 columns</p>\n",
       "</div>"
      ],
      "text/plain": [
       "          x1        x2        x3        x4        x5     e(x1)     e(x2)  \\\n",
       "0   7.940000  3.210000  2.530000  6.250000  6.700000  0.000000  0.000000   \n",
       "1  -1.845988 -4.116481 -4.119201 -5.331084 -2.259427  9.785988  7.326481   \n",
       "2   3.946509  3.798212  3.175478  5.774443  3.886868  9.785988  7.326481   \n",
       "3  -1.583059 -2.936498 -3.092521 -3.035941 -1.894045  5.792497  7.914693   \n",
       "4   3.070960  2.980763  2.323753  4.930828  2.993241  5.529568  6.734711   \n",
       "..       ...       ...       ...       ...       ...       ...       ...   \n",
       "82  0.861271  0.265745 -0.221570  1.321953  0.687186  0.000094  0.000118   \n",
       "83  0.861200  0.265656 -0.221652  1.321834  0.687111  0.000082  0.000102   \n",
       "84  0.861261  0.265734 -0.221580  1.321938  0.687176  0.000071  0.000089   \n",
       "85  0.861208  0.265667 -0.221642  1.321848  0.687120  0.000062  0.000077   \n",
       "86  0.861254  0.265725 -0.221588  1.321926  0.687169  0.000054  0.000067   \n",
       "\n",
       "       e(x3)      e(x4)     e(x5)  \n",
       "0   0.000000   0.000000  0.000000  \n",
       "1   6.649201  11.581084  8.959427  \n",
       "2   6.649201  11.581084  8.959427  \n",
       "3   7.294679  11.105527  6.146295  \n",
       "4   6.267999   8.810384  5.780913  \n",
       "..       ...        ...       ...  \n",
       "82  0.000109   0.000158  0.000099  \n",
       "83  0.000094   0.000137  0.000086  \n",
       "84  0.000082   0.000119  0.000074  \n",
       "85  0.000071   0.000103  0.000065  \n",
       "86  0.000062   0.000090  0.000056  \n",
       "\n",
       "[87 rows x 10 columns]"
      ]
     },
     "execution_count": 9,
     "metadata": {},
     "output_type": "execute_result"
    }
   ],
   "source": [
    "df"
   ]
  },
  {
   "cell_type": "markdown",
   "id": "5551c67c",
   "metadata": {},
   "source": [
    "## Prohonkiy method"
   ]
  },
  {
   "cell_type": "code",
   "execution_count": 9,
   "id": "4653926b",
   "metadata": {},
   "outputs": [],
   "source": [
    "a = np.array([\n",
    "    [6.43, 1.12, 0, 0, 0],\n",
    "    [1.12, 3.03, 2.12, 0, 0],\n",
    "    [0, 2.12, 7.38, 1.29, 0],\n",
    "    [0, 0, 1.29, 3.32, 1.25],\n",
    "    [0, 0, 0, 1.25, 6.46]\n",
    "])\n",
    "\n",
    "b = np.array([7.94, 3.21, 2.53, 6.25, 6.70])"
   ]
  },
  {
   "cell_type": "code",
   "execution_count": 10,
   "id": "c8f04906",
   "metadata": {},
   "outputs": [],
   "source": [
    "y = [6.43]\n",
    "al = [-a[0, 1] / y[0]]\n",
    "bt = [b[0] / y[0]]\n",
    "for i in range(1, len(a)):\n",
    "    y.append(a[i, i] + a[i, i - 1] * al[i - 1])\n",
    "    bt.append((b[i] - a[i, i - 1] * bt[i - 1]) / y[i])\n",
    "    if i + 1 == len(a):\n",
    "        continue\n",
    "    al.append(-a[i, i + 1] / y[i])"
   ]
  },
  {
   "cell_type": "code",
   "execution_count": 11,
   "id": "c2f6cb76",
   "metadata": {},
   "outputs": [],
   "source": [
    "al.append(0)\n",
    "data = {\n",
    "    'Alpha': al,\n",
    "    'Beta': bt\n",
    "}"
   ]
  },
  {
   "cell_type": "code",
   "execution_count": 12,
   "id": "439d7fa3",
   "metadata": {},
   "outputs": [
    {
     "data": {
      "text/html": [
       "<div>\n",
       "<style scoped>\n",
       "    .dataframe tbody tr th:only-of-type {\n",
       "        vertical-align: middle;\n",
       "    }\n",
       "\n",
       "    .dataframe tbody tr th {\n",
       "        vertical-align: top;\n",
       "    }\n",
       "\n",
       "    .dataframe thead th {\n",
       "        text-align: right;\n",
       "    }\n",
       "</style>\n",
       "<table border=\"1\" class=\"dataframe\">\n",
       "  <thead>\n",
       "    <tr style=\"text-align: right;\">\n",
       "      <th></th>\n",
       "      <th>Alpha</th>\n",
       "      <th>Beta</th>\n",
       "    </tr>\n",
       "  </thead>\n",
       "  <tbody>\n",
       "    <tr>\n",
       "      <th>1</th>\n",
       "      <td>-0.174184</td>\n",
       "      <td>1.234837</td>\n",
       "    </tr>\n",
       "    <tr>\n",
       "      <th>2</th>\n",
       "      <td>-0.747818</td>\n",
       "      <td>0.644458</td>\n",
       "    </tr>\n",
       "    <tr>\n",
       "      <th>3</th>\n",
       "      <td>-0.222620</td>\n",
       "      <td>0.200833</td>\n",
       "    </tr>\n",
       "    <tr>\n",
       "      <th>4</th>\n",
       "      <td>-0.412158</td>\n",
       "      <td>1.975365</td>\n",
       "    </tr>\n",
       "    <tr>\n",
       "      <th>5</th>\n",
       "      <td>0.000000</td>\n",
       "      <td>0.711679</td>\n",
       "    </tr>\n",
       "  </tbody>\n",
       "</table>\n",
       "</div>"
      ],
      "text/plain": [
       "      Alpha      Beta\n",
       "1 -0.174184  1.234837\n",
       "2 -0.747818  0.644458\n",
       "3 -0.222620  0.200833\n",
       "4 -0.412158  1.975365\n",
       "5  0.000000  0.711679"
      ]
     },
     "execution_count": 12,
     "metadata": {},
     "output_type": "execute_result"
    }
   ],
   "source": [
    "df = pd.DataFrame(data)\n",
    "df.index = np.arange(1, len(df) + 1)\n",
    "df"
   ]
  },
  {
   "cell_type": "code",
   "execution_count": 13,
   "id": "52acdda4",
   "metadata": {},
   "outputs": [],
   "source": [
    "x = []\n",
    "x.append(bt[-1])"
   ]
  },
  {
   "cell_type": "code",
   "execution_count": 14,
   "id": "dc90f679",
   "metadata": {},
   "outputs": [],
   "source": [
    "j = 0\n",
    "for i in range(3, -1, -1):\n",
    "    x.append(al[i] * x[j] + bt[i])\n",
    "    j += 1"
   ]
  },
  {
   "cell_type": "code",
   "execution_count": 19,
   "id": "6388c754",
   "metadata": {},
   "outputs": [
    {
     "data": {
      "text/html": [
       "<div>\n",
       "<style scoped>\n",
       "    .dataframe tbody tr th:only-of-type {\n",
       "        vertical-align: middle;\n",
       "    }\n",
       "\n",
       "    .dataframe tbody tr th {\n",
       "        vertical-align: top;\n",
       "    }\n",
       "\n",
       "    .dataframe thead th {\n",
       "        text-align: right;\n",
       "    }\n",
       "</style>\n",
       "<table border=\"1\" class=\"dataframe\">\n",
       "  <thead>\n",
       "    <tr style=\"text-align: right;\">\n",
       "      <th></th>\n",
       "      <th>x</th>\n",
       "    </tr>\n",
       "  </thead>\n",
       "  <tbody>\n",
       "    <tr>\n",
       "      <th>1</th>\n",
       "      <td>0.711679</td>\n",
       "    </tr>\n",
       "    <tr>\n",
       "      <th>2</th>\n",
       "      <td>1.682041</td>\n",
       "    </tr>\n",
       "    <tr>\n",
       "      <th>3</th>\n",
       "      <td>-0.173623</td>\n",
       "    </tr>\n",
       "    <tr>\n",
       "      <th>4</th>\n",
       "      <td>0.774297</td>\n",
       "    </tr>\n",
       "    <tr>\n",
       "      <th>5</th>\n",
       "      <td>1.099967</td>\n",
       "    </tr>\n",
       "  </tbody>\n",
       "</table>\n",
       "</div>"
      ],
      "text/plain": [
       "          x\n",
       "1  0.711679\n",
       "2  1.682041\n",
       "3 -0.173623\n",
       "4  0.774297\n",
       "5  1.099967"
      ]
     },
     "execution_count": 19,
     "metadata": {},
     "output_type": "execute_result"
    }
   ],
   "source": [
    "data = {'x': x}\n",
    "df = pd.DataFrame(data)\n",
    "df.index = np.arange(1, len(x) + 1)\n",
    "df"
   ]
  },
  {
   "cell_type": "code",
   "execution_count": null,
   "id": "a2a6cd42",
   "metadata": {},
   "outputs": [],
   "source": []
  }
 ],
 "metadata": {
  "kernelspec": {
   "display_name": "Python 3 (ipykernel)",
   "language": "python",
   "name": "python3"
  },
  "language_info": {
   "codemirror_mode": {
    "name": "ipython",
    "version": 3
   },
   "file_extension": ".py",
   "mimetype": "text/x-python",
   "name": "python",
   "nbconvert_exporter": "python",
   "pygments_lexer": "ipython3",
   "version": "3.8.5"
  }
 },
 "nbformat": 4,
 "nbformat_minor": 5
}
